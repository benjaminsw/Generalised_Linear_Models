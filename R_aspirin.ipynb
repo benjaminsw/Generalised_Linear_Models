{
  "nbformat": 4,
  "nbformat_minor": 0,
  "metadata": {
    "colab": {
      "name": "R - aspirin",
      "provenance": [],
      "collapsed_sections": [],
      "authorship_tag": "ABX9TyMY0g7/zoGvl3gll8/00H4j",
      "include_colab_link": true
    },
    "kernelspec": {
      "name": "ir",
      "display_name": "R"
    }
  },
  "cells": [
    {
      "cell_type": "markdown",
      "metadata": {
        "id": "view-in-github",
        "colab_type": "text"
      },
      "source": [
        "<a href=\"https://colab.research.google.com/github/benjaminsw/Generalised_Linear_Models/blob/main/R_aspirin.ipynb\" target=\"_parent\"><img src=\"https://colab.research.google.com/assets/colab-badge.svg\" alt=\"Open In Colab\"/></a>"
      ]
    },
    {
      "cell_type": "code",
      "metadata": {
        "id": "DGwuOpNygxOc"
      },
      "source": [
        "ulc<- data.frame(ulcer=factor(rep(c(rep(\"gastric\",2), rep(\"duodenal\",2)),2)),\n",
        "                 group=factor(rep(c(\"control\",\"case\"),4)),\n",
        "                 aspirin= factor(c(rep(\"no\",4),rep(\"yes\",4))),\n",
        "                 freq= c(62,39,53,49,6,25,8,8))"
      ],
      "execution_count": 1,
      "outputs": []
    },
    {
      "cell_type": "code",
      "metadata": {
        "id": "9hSEiHsJQqGJ"
      },
      "source": [
        "asptab <- xtabs(freq ~ group+aspirin+ulcer, data=ulc)"
      ],
      "execution_count": 3,
      "outputs": []
    },
    {
      "cell_type": "code",
      "metadata": {
        "colab": {
          "base_uri": "https://localhost:8080/",
          "height": 434
        },
        "id": "lfyeQd22QsKe",
        "outputId": "18679eba-9bfe-4b8b-d335-404d24fa8312"
      },
      "source": [
        "# Any log-linear model of these data should include terms corresponding\n",
        "# to the fixed marginal totals.\n",
        "# Here we need to include group, ulcer and their interaction.\n",
        "\n",
        "# Minimal model:\n",
        "asp1 <- glm(freq~ ulcer*group, family=poisson, data=ulc)\n",
        "summary(asp1)"
      ],
      "execution_count": 4,
      "outputs": [
        {
          "output_type": "display_data",
          "data": {
            "text/plain": [
              "\n",
              "Call:\n",
              "glm(formula = freq ~ ulcer * group, family = poisson, data = ulc)\n",
              "\n",
              "Deviance Residuals: \n",
              "     1       2       3       4       5       6       7       8  \n",
              " 4.301   1.196   3.684   3.480  -5.932  -1.287  -4.857  -4.547  \n",
              "\n",
              "Coefficients:\n",
              "                           Estimate Std. Error z value Pr(>|z|)    \n",
              "(Intercept)                3.349904   0.132453  25.291   <2e-16 ***\n",
              "ulcergastric               0.115832   0.182123   0.636    0.525    \n",
              "groupcontrol               0.067823   0.184221   0.368    0.713    \n",
              "ulcergastric:groupcontrol -0.007198   0.253512  -0.028    0.977    \n",
              "---\n",
              "Signif. codes:  0 ‘***’ 0.001 ‘**’ 0.01 ‘*’ 0.05 ‘.’ 0.1 ‘ ’ 1\n",
              "\n",
              "(Dispersion parameter for poisson family taken to be 1)\n",
              "\n",
              "    Null deviance: 127.75  on 7  degrees of freedom\n",
              "Residual deviance: 126.71  on 4  degrees of freedom\n",
              "AIC: 174.32\n",
              "\n",
              "Number of Fisher Scoring iterations: 5\n"
            ]
          },
          "metadata": {
            "tags": []
          }
        }
      ]
    },
    {
      "cell_type": "code",
      "metadata": {
        "colab": {
          "base_uri": "https://localhost:8080/",
          "height": 469
        },
        "id": "WabP6Jr8QwbS",
        "outputId": "feb2396d-00cb-4b8d-b38d-072390e94524"
      },
      "source": [
        "# Models including aspirin too:\n",
        "asp2 <- glm(freq~ ulcer*group+aspirin, family=poisson, data=ulc)\n",
        "summary(asp2)"
      ],
      "execution_count": 5,
      "outputs": [
        {
          "output_type": "display_data",
          "data": {
            "text/plain": [
              "\n",
              "Call:\n",
              "glm(formula = freq ~ ulcer * group + aspirin, family = poisson, \n",
              "    data = ulc)\n",
              "\n",
              "Deviance Residuals: \n",
              "      1        2        3        4        5        6        7        8  \n",
              " 0.8952  -1.8828   0.4872   0.3954  -2.1191   3.2603  -1.0836  -0.8691  \n",
              "\n",
              "Coefficients:\n",
              "                           Estimate Std. Error z value Pr(>|z|)    \n",
              "(Intercept)                3.834796   0.135904  28.217   <2e-16 ***\n",
              "ulcergastric               0.115832   0.182123   0.636    0.525    \n",
              "groupcontrol               0.067823   0.184221   0.368    0.713    \n",
              "aspirinyes                -1.463058   0.161872  -9.038   <2e-16 ***\n",
              "ulcergastric:groupcontrol -0.007198   0.253512  -0.028    0.977    \n",
              "---\n",
              "Signif. codes:  0 ‘***’ 0.001 ‘**’ 0.01 ‘*’ 0.05 ‘.’ 0.1 ‘ ’ 1\n",
              "\n",
              "(Dispersion parameter for poisson family taken to be 1)\n",
              "\n",
              "    Null deviance: 127.749  on 7  degrees of freedom\n",
              "Residual deviance:  21.789  on 3  degrees of freedom\n",
              "AIC: 71.404\n",
              "\n",
              "Number of Fisher Scoring iterations: 5\n"
            ]
          },
          "metadata": {
            "tags": []
          }
        }
      ]
    },
    {
      "cell_type": "code",
      "metadata": {
        "colab": {
          "base_uri": "https://localhost:8080/",
          "height": 486
        },
        "id": "yUUBFs6zQzGv",
        "outputId": "3b64f8ad-56e8-4859-dbaa-f77e09e1373e"
      },
      "source": [
        "asp3 <- glm(freq~ ulcer*group+aspirin*group, family=poisson, data=ulc)\n",
        "summary(asp3)"
      ],
      "execution_count": 6,
      "outputs": [
        {
          "output_type": "display_data",
          "data": {
            "text/plain": [
              "\n",
              "Call:\n",
              "glm(formula = freq ~ ulcer * group + aspirin * group, family = poisson, \n",
              "    data = ulc)\n",
              "\n",
              "Deviance Residuals: \n",
              "      1        2        3        4        5        6        7        8  \n",
              " 0.1766  -1.1381  -0.1879   1.1388  -0.5251   1.6950   0.5191  -2.1123  \n",
              "\n",
              "Coefficients:\n",
              "                           Estimate Std. Error z value Pr(>|z|)    \n",
              "(Intercept)                3.724598   0.143676  25.924  < 2e-16 ***\n",
              "ulcergastric               0.115832   0.182123   0.636  0.52477    \n",
              "groupcontrol               0.271396   0.194885   1.393  0.16374    \n",
              "aspirinyes                -0.980829   0.204122  -4.805 1.55e-06 ***\n",
              "ulcergastric:groupcontrol -0.007198   0.253511  -0.028  0.97735    \n",
              "groupcontrol:aspirinyes   -1.125046   0.348984  -3.224  0.00127 ** \n",
              "---\n",
              "Signif. codes:  0 ‘***’ 0.001 ‘**’ 0.01 ‘*’ 0.05 ‘.’ 0.1 ‘ ’ 1\n",
              "\n",
              "(Dispersion parameter for poisson family taken to be 1)\n",
              "\n",
              "    Null deviance: 127.749  on 7  degrees of freedom\n",
              "Residual deviance:  10.538  on 2  degrees of freedom\n",
              "AIC: 62.153\n",
              "\n",
              "Number of Fisher Scoring iterations: 4\n"
            ]
          },
          "metadata": {
            "tags": []
          }
        }
      ]
    },
    {
      "cell_type": "code",
      "metadata": {
        "colab": {
          "base_uri": "https://localhost:8080/",
          "height": 503
        },
        "id": "PAjxSbW7Q0Vv",
        "outputId": "00307841-19ee-43f4-c0e8-f8349fad03fd"
      },
      "source": [
        "asp4 <- glm(freq~ ulcer*group+aspirin*ulcer+aspirin*group, family=poisson, data=ulc)\n",
        "summary(asp4)"
      ],
      "execution_count": 7,
      "outputs": [
        {
          "output_type": "display_data",
          "data": {
            "text/plain": [
              "\n",
              "Call:\n",
              "glm(formula = freq ~ ulcer * group + aspirin * ulcer + aspirin * \n",
              "    group, family = poisson, data = ulc)\n",
              "\n",
              "Deviance Residuals: \n",
              "      1        2        3        4        5        6        7        8  \n",
              " 0.4486  -0.5393  -0.4661   0.5073  -1.2085   0.7280   1.4673  -1.0829  \n",
              "\n",
              "Coefficients:\n",
              "                          Estimate Std. Error z value Pr(>|z|)    \n",
              "(Intercept)                3.81846    0.14515  26.307  < 2e-16 ***\n",
              "ulcergastric              -0.06977    0.20415  -0.342  0.73254    \n",
              "groupcontrol               0.21517    0.19172   1.122  0.26174    \n",
              "aspirinyes                -1.37910    0.29514  -4.673 2.97e-06 ***\n",
              "ulcergastric:groupcontrol  0.10574    0.26147   0.404  0.68590    \n",
              "ulcergastric:aspirinyes    0.70005    0.34603   2.023  0.04306 *  \n",
              "groupcontrol:aspirinyes   -1.14288    0.35207  -3.246  0.00117 ** \n",
              "---\n",
              "Signif. codes:  0 ‘***’ 0.001 ‘**’ 0.01 ‘*’ 0.05 ‘.’ 0.1 ‘ ’ 1\n",
              "\n",
              "(Dispersion parameter for poisson family taken to be 1)\n",
              "\n",
              "    Null deviance: 127.749  on 7  degrees of freedom\n",
              "Residual deviance:   6.283  on 1  degrees of freedom\n",
              "AIC: 59.898\n",
              "\n",
              "Number of Fisher Scoring iterations: 4\n"
            ]
          },
          "metadata": {
            "tags": []
          }
        }
      ]
    },
    {
      "cell_type": "code",
      "metadata": {
        "colab": {
          "base_uri": "https://localhost:8080/",
          "height": 122
        },
        "id": "5vW2pZ-YQ1mM",
        "outputId": "a1f94a03-d402-4e4d-eb45-cb2f66b2f830"
      },
      "source": [
        "anova(asp3,asp4)"
      ],
      "execution_count": 8,
      "outputs": [
        {
          "output_type": "display_data",
          "data": {
            "text/plain": [
              "  Resid. Df Resid. Dev Df Deviance\n",
              "1 2         10.538439  NA       NA\n",
              "2 1          6.282983   1 4.255456"
            ],
            "text/latex": "A anova: 2 × 4\n\\begin{tabular}{r|llll}\n  & Resid. Df & Resid. Dev & Df & Deviance\\\\\n  & <dbl> & <dbl> & <dbl> & <dbl>\\\\\n\\hline\n\t1 & 2 & 10.538439 & NA &       NA\\\\\n\t2 & 1 &  6.282983 &  1 & 4.255456\\\\\n\\end{tabular}\n",
            "text/markdown": "\nA anova: 2 × 4\n\n| <!--/--> | Resid. Df &lt;dbl&gt; | Resid. Dev &lt;dbl&gt; | Df &lt;dbl&gt; | Deviance &lt;dbl&gt; |\n|---|---|---|---|---|\n| 1 | 2 | 10.538439 | NA |       NA |\n| 2 | 1 |  6.282983 |  1 | 4.255456 |\n\n",
            "text/html": [
              "<table>\n",
              "<caption>A anova: 2 × 4</caption>\n",
              "<thead>\n",
              "\t<tr><th></th><th scope=col>Resid. Df</th><th scope=col>Resid. Dev</th><th scope=col>Df</th><th scope=col>Deviance</th></tr>\n",
              "\t<tr><th></th><th scope=col>&lt;dbl&gt;</th><th scope=col>&lt;dbl&gt;</th><th scope=col>&lt;dbl&gt;</th><th scope=col>&lt;dbl&gt;</th></tr>\n",
              "</thead>\n",
              "<tbody>\n",
              "\t<tr><th scope=row>1</th><td>2</td><td>10.538439</td><td>NA</td><td>      NA</td></tr>\n",
              "\t<tr><th scope=row>2</th><td>1</td><td> 6.282983</td><td> 1</td><td>4.255456</td></tr>\n",
              "</tbody>\n",
              "</table>\n"
            ]
          },
          "metadata": {
            "tags": []
          }
        }
      ]
    },
    {
      "cell_type": "code",
      "metadata": {
        "colab": {
          "base_uri": "https://localhost:8080/",
          "height": 52
        },
        "id": "edRJC4k_Q24I",
        "outputId": "f43e3701-8371-46c0-cb32-6dcb493e019d"
      },
      "source": [
        "fitted(asp4)"
      ],
      "execution_count": 9,
      "outputs": [
        {
          "output_type": "display_data",
          "data": {
            "text/plain": [
              "        1         2         3         4         5         6         7         8 \n",
              "58.534241 42.465759 56.465759 45.534241  9.465759 21.534241  4.534241 11.465759 "
            ],
            "text/latex": "\\begin{description*}\n\\item[1] 58.5342412173988\n\\item[2] 42.4657587826311\n\\item[3] 56.4657587826266\n\\item[4] 45.5342412174022\n\\item[5] 9.46575878465522\n\\item[6] 21.5342412174194\n\\item[7] 4.53424121967442\n\\item[8] 11.4657587828326\n\\end{description*}\n",
            "text/markdown": "1\n:   58.53424121739882\n:   42.46575878263113\n:   56.46575878262664\n:   45.53424121740225\n:   9.465758784655226\n:   21.53424121741947\n:   4.534241219674428\n:   11.4657587828326\n\n",
            "text/html": [
              "<style>\n",
              ".dl-inline {width: auto; margin:0; padding: 0}\n",
              ".dl-inline>dt, .dl-inline>dd {float: none; width: auto; display: inline-block}\n",
              ".dl-inline>dt::after {content: \":\\0020\"; padding-right: .5ex}\n",
              ".dl-inline>dt:not(:first-of-type) {padding-left: .5ex}\n",
              "</style><dl class=dl-inline><dt>1</dt><dd>58.5342412173988</dd><dt>2</dt><dd>42.4657587826311</dd><dt>3</dt><dd>56.4657587826266</dd><dt>4</dt><dd>45.5342412174022</dd><dt>5</dt><dd>9.46575878465522</dd><dt>6</dt><dd>21.5342412174194</dd><dt>7</dt><dd>4.53424121967442</dd><dt>8</dt><dd>11.4657587828326</dd></dl>\n"
            ]
          },
          "metadata": {
            "tags": []
          }
        }
      ]
    }
  ]
}