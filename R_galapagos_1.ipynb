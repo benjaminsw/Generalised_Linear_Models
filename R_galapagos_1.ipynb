{
  "nbformat": 4,
  "nbformat_minor": 0,
  "metadata": {
    "colab": {
      "name": "R - galapagos-1",
      "provenance": [],
      "collapsed_sections": [],
      "authorship_tag": "ABX9TyNHOzi3PEHlAd79kOIoO8Dp",
      "include_colab_link": true
    },
    "kernelspec": {
      "name": "ir",
      "display_name": "R"
    }
  },
  "cells": [
    {
      "cell_type": "markdown",
      "metadata": {
        "id": "view-in-github",
        "colab_type": "text"
      },
      "source": [
        "<a href=\"https://colab.research.google.com/github/benjaminsw/Generalised_Linear_Models/blob/main/R_galapagos_1.ipynb\" target=\"_parent\"><img src=\"https://colab.research.google.com/assets/colab-badge.svg\" alt=\"Open In Colab\"/></a>"
      ]
    },
    {
      "cell_type": "code",
      "metadata": {
        "id": "DGwuOpNygxOc",
        "colab": {
          "base_uri": "https://localhost:8080/"
        },
        "outputId": "b475a358-cf4c-4e53-f2ac-0f8474207c68"
      },
      "source": [
        "if (!require('faraway')) install.packages('faraway'); library('faraway')"
      ],
      "execution_count": 1,
      "outputs": [
        {
          "output_type": "stream",
          "text": [
            "Loading required package: faraway\n",
            "\n",
            "Warning message in library(package, lib.loc = lib.loc, character.only = TRUE, logical.return = TRUE, :\n",
            "“there is no package called ‘faraway’”\n",
            "Installing package into ‘/usr/local/lib/R/site-library’\n",
            "(as ‘lib’ is unspecified)\n",
            "\n",
            "also installing the dependencies ‘minqa’, ‘nloptr’, ‘statmod’, ‘RcppEigen’, ‘lme4’\n",
            "\n",
            "\n"
          ],
          "name": "stderr"
        }
      ]
    },
    {
      "cell_type": "code",
      "metadata": {
        "id": "Yi9qFXeimOFV",
        "colab": {
          "base_uri": "https://localhost:8080/",
          "height": 486
        },
        "outputId": "f8fad885-4158-49c6-9cbe-f07df48ec091"
      },
      "source": [
        "gal1 <- glm(Species ~ Area + Elevation +Nearest +Scruz +Adjacent, family=poisson, data=gala)\n",
        "summary(gal1)"
      ],
      "execution_count": 2,
      "outputs": [
        {
          "output_type": "display_data",
          "data": {
            "text/plain": [
              "\n",
              "Call:\n",
              "glm(formula = Species ~ Area + Elevation + Nearest + Scruz + \n",
              "    Adjacent, family = poisson, data = gala)\n",
              "\n",
              "Deviance Residuals: \n",
              "    Min       1Q   Median       3Q      Max  \n",
              "-8.2752  -4.4966  -0.9443   1.9168  10.1849  \n",
              "\n",
              "Coefficients:\n",
              "              Estimate Std. Error z value Pr(>|z|)    \n",
              "(Intercept)  3.155e+00  5.175e-02  60.963  < 2e-16 ***\n",
              "Area        -5.799e-04  2.627e-05 -22.074  < 2e-16 ***\n",
              "Elevation    3.541e-03  8.741e-05  40.507  < 2e-16 ***\n",
              "Nearest      8.826e-03  1.821e-03   4.846 1.26e-06 ***\n",
              "Scruz       -5.709e-03  6.256e-04  -9.126  < 2e-16 ***\n",
              "Adjacent    -6.630e-04  2.933e-05 -22.608  < 2e-16 ***\n",
              "---\n",
              "Signif. codes:  0 ‘***’ 0.001 ‘**’ 0.01 ‘*’ 0.05 ‘.’ 0.1 ‘ ’ 1\n",
              "\n",
              "(Dispersion parameter for poisson family taken to be 1)\n",
              "\n",
              "    Null deviance: 3510.73  on 29  degrees of freedom\n",
              "Residual deviance:  716.85  on 24  degrees of freedom\n",
              "AIC: 889.68\n",
              "\n",
              "Number of Fisher Scoring iterations: 5\n"
            ]
          },
          "metadata": {
            "tags": []
          }
        }
      ]
    },
    {
      "cell_type": "code",
      "metadata": {
        "id": "AgjnJrAu7gfZ"
      },
      "source": [
        "# Number of Fisher Scoring iterations: 5\n",
        "par(mfrow=c(1,2))"
      ],
      "execution_count": 3,
      "outputs": []
    },
    {
      "cell_type": "code",
      "metadata": {
        "colab": {
          "base_uri": "https://localhost:8080/",
          "height": 437
        },
        "id": "ihWjOl_b7ii-",
        "outputId": "405172e1-afc8-41b7-aa4b-2bf392f2f019"
      },
      "source": [
        "# Normal probability plot of Pearson residuals:\n",
        "\n",
        "qqnorm(resid(gal1,type=\"pearson\"), main=\"QQ-plot of Pearson residuals\")\n",
        "qqline(resid(gal1,type=\"pearson\"))"
      ],
      "execution_count": 4,
      "outputs": [
        {
          "output_type": "display_data",
          "data": {
            "image/png": "[encoded data removed]",
            "text/plain": [
              "Plot with title “QQ-plot of Pearson residuals”"
            ]
          },
          "metadata": {
            "tags": [],
            "image/png": {
              "width": 420,
              "height": 420
            }
          }
        }
      ]
    },
    {
      "cell_type": "code",
      "metadata": {
        "colab": {
          "base_uri": "https://localhost:8080/",
          "height": 437
        },
        "id": "qUC58yJ27nhD",
        "outputId": "31ddbc40-e7d0-4d67-d989-eb40e764cd5f"
      },
      "source": [
        "# Plot of variance against mean:\n",
        "\n",
        "plot(log(fitted(gal1)),log((gala$Species-fitted(gal1))^2), xlab=expression(hat(mu)),ylab=expression((y-hat(mu))^2), main=\"Variance v mean\")\n",
        "abline(0,1)"
      ],
      "execution_count": 5,
      "outputs": [
        {
          "output_type": "display_data",
          "data": {
            "image/png": "[encoded data removed]",
            "text/plain": [
              "Plot with title “Variance v mean”"
            ]
          },
          "metadata": {
            "tags": [],
            "image/png": {
              "width": 420,
              "height": 420
            }
          }
        }
      ]
    },
    {
      "cell_type": "code",
      "metadata": {
        "colab": {
          "base_uri": "https://localhost:8080/",
          "height": 34
        },
        "id": "yLLVur9D7oty",
        "outputId": "79a5bb09-7923-4ac4-8fa7-bafd5136f2e8"
      },
      "source": [
        "# Estimate the dispersion parameter:\n",
        "X2 <- sum(resid(gal1,type=\"pearson\")^2)\n",
        "dp <- X2/gal1$df.res\n",
        "dp"
      ],
      "execution_count": 6,
      "outputs": [
        {
          "output_type": "display_data",
          "data": {
            "text/plain": [
              "[1] 31.74914"
            ],
            "text/latex": "31.7491353233867",
            "text/markdown": "31.7491353233867",
            "text/html": [
              "31.7491353233867"
            ]
          },
          "metadata": {
            "tags": []
          }
        }
      ]
    },
    {
      "cell_type": "code",
      "metadata": {
        "colab": {
          "base_uri": "https://localhost:8080/",
          "height": 242
        },
        "id": "HOidqs8M7qCF",
        "outputId": "59516d7f-a3cb-4f13-fe3b-6267464aad0d"
      },
      "source": [
        "drop1(gal1,test=\"F\")"
      ],
      "execution_count": 7,
      "outputs": [
        {
          "output_type": "stream",
          "text": [
            "Warning message in drop1.glm(gal1, test = \"F\"):\n",
            "“F test assumes 'quasipoisson' family”\n"
          ],
          "name": "stderr"
        },
        {
          "output_type": "display_data",
          "data": {
            "text/plain": [
              "          Df Deviance  AIC       F value    Pr(>F)      \n",
              "<none>    NA  716.8458  889.6767         NA           NA\n",
              "Area       1 1204.3529 1375.1838 16.3217396 4.762092e-04\n",
              "Elevation  1 2389.5689 2560.3998 56.0027776 1.007228e-07\n",
              "Nearest    1  739.4108  910.2418  0.7554776 3.933572e-01\n",
              "Scruz      1  813.6200  984.4509  3.2400008 8.444482e-02\n",
              "Adjacent   1 1341.4542 1512.2851 20.9118923 1.230182e-04"
            ],
            "text/latex": "A anova: 6 × 5\n\\begin{tabular}{r|lllll}\n  & Df & Deviance & AIC & F value & Pr(>F)\\\\\n  & <dbl> & <dbl> & <dbl> & <dbl> & <dbl>\\\\\n\\hline\n\t<none> & NA &  716.8458 &  889.6767 &         NA &           NA\\\\\n\tArea &  1 & 1204.3529 & 1375.1838 & 16.3217396 & 4.762092e-04\\\\\n\tElevation &  1 & 2389.5689 & 2560.3998 & 56.0027776 & 1.007228e-07\\\\\n\tNearest &  1 &  739.4108 &  910.2418 &  0.7554776 & 3.933572e-01\\\\\n\tScruz &  1 &  813.6200 &  984.4509 &  3.2400008 & 8.444482e-02\\\\\n\tAdjacent &  1 & 1341.4542 & 1512.2851 & 20.9118923 & 1.230182e-04\\\\\n\\end{tabular}\n",
            "text/markdown": "\nA anova: 6 × 5\n\n| <!--/--> | Df &lt;dbl&gt; | Deviance &lt;dbl&gt; | AIC &lt;dbl&gt; | F value &lt;dbl&gt; | Pr(&gt;F) &lt;dbl&gt; |\n|---|---|---|---|---|---|\n| &lt;none&gt; | NA |  716.8458 |  889.6767 |         NA |           NA |\n| Area |  1 | 1204.3529 | 1375.1838 | 16.3217396 | 4.762092e-04 |\n| Elevation |  1 | 2389.5689 | 2560.3998 | 56.0027776 | 1.007228e-07 |\n| Nearest |  1 |  739.4108 |  910.2418 |  0.7554776 | 3.933572e-01 |\n| Scruz |  1 |  813.6200 |  984.4509 |  3.2400008 | 8.444482e-02 |\n| Adjacent |  1 | 1341.4542 | 1512.2851 | 20.9118923 | 1.230182e-04 |\n\n",
            "text/html": [
              "<table>\n",
              "<caption>A anova: 6 × 5</caption>\n",
              "<thead>\n",
              "\t<tr><th></th><th scope=col>Df</th><th scope=col>Deviance</th><th scope=col>AIC</th><th scope=col>F value</th><th scope=col>Pr(&gt;F)</th></tr>\n",
              "\t<tr><th></th><th scope=col>&lt;dbl&gt;</th><th scope=col>&lt;dbl&gt;</th><th scope=col>&lt;dbl&gt;</th><th scope=col>&lt;dbl&gt;</th><th scope=col>&lt;dbl&gt;</th></tr>\n",
              "</thead>\n",
              "<tbody>\n",
              "\t<tr><th scope=row>&lt;none&gt;</th><td>NA</td><td> 716.8458</td><td> 889.6767</td><td>        NA</td><td>          NA</td></tr>\n",
              "\t<tr><th scope=row>Area</th><td> 1</td><td>1204.3529</td><td>1375.1838</td><td>16.3217396</td><td>4.762092e-04</td></tr>\n",
              "\t<tr><th scope=row>Elevation</th><td> 1</td><td>2389.5689</td><td>2560.3998</td><td>56.0027776</td><td>1.007228e-07</td></tr>\n",
              "\t<tr><th scope=row>Nearest</th><td> 1</td><td> 739.4108</td><td> 910.2418</td><td> 0.7554776</td><td>3.933572e-01</td></tr>\n",
              "\t<tr><th scope=row>Scruz</th><td> 1</td><td> 813.6200</td><td> 984.4509</td><td> 3.2400008</td><td>8.444482e-02</td></tr>\n",
              "\t<tr><th scope=row>Adjacent</th><td> 1</td><td>1341.4542</td><td>1512.2851</td><td>20.9118923</td><td>1.230182e-04</td></tr>\n",
              "</tbody>\n",
              "</table>\n"
            ]
          },
          "metadata": {
            "tags": []
          }
        }
      ]
    }
  ]
}