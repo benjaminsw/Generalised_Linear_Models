{
  "nbformat": 4,
  "nbformat_minor": 0,
  "metadata": {
    "colab": {
      "name": "R - deathpenalty",
      "provenance": [],
      "collapsed_sections": [],
      "authorship_tag": "ABX9TyNwIiyF4kFH2+FOwhWeK5+C",
      "include_colab_link": true
    },
    "kernelspec": {
      "name": "ir",
      "display_name": "R"
    }
  },
  "cells": [
    {
      "cell_type": "markdown",
      "metadata": {
        "id": "view-in-github",
        "colab_type": "text"
      },
      "source": [
        "<a href=\"https://colab.research.google.com/github/benjaminsw/Generalised_Linear_Models/blob/main/R_deathpenalty.ipynb\" target=\"_parent\"><img src=\"https://colab.research.google.com/assets/colab-badge.svg\" alt=\"Open In Colab\"/></a>"
      ]
    },
    {
      "cell_type": "code",
      "metadata": {
        "id": "DGwuOpNygxOc",
        "colab": {
          "base_uri": "https://localhost:8080/"
        },
        "outputId": "7aecbf8e-d4f7-4308-de42-17827001c80f"
      },
      "source": [
        "if (!require('gsheet')) install.packages('gsheet'); library('gsheet')"
      ],
      "execution_count": 1,
      "outputs": [
        {
          "output_type": "stream",
          "text": [
            "Loading required package: gsheet\n",
            "\n",
            "Warning message in library(package, lib.loc = lib.loc, character.only = TRUE, logical.return = TRUE, :\n",
            "“there is no package called ‘gsheet’”\n",
            "Installing package into ‘/usr/local/lib/R/site-library’\n",
            "(as ‘lib’ is unspecified)\n",
            "\n"
          ],
          "name": "stderr"
        }
      ]
    },
    {
      "cell_type": "code",
      "metadata": {
        "id": "Yi9qFXeimOFV",
        "colab": {
          "base_uri": "https://localhost:8080/",
          "height": 243
        },
        "outputId": "65def08f-3ad0-412a-ae7e-31e00b0e2369"
      },
      "source": [
        "deathpenalty <- data.frame (D=rep(c(\"white\",\"white\",\"black\",\"black\"),2),\n",
        "                            V=rep(c(\"white\",\"black\"),4),\n",
        "                            P=c(rep(\"yes\",4),rep(\"no\",4)),\n",
        "                            freq = c(19,0,11,6,132,9,52,97))\n",
        "\n",
        "xtabs(freq ~ D + V+ P, data=deathpenalty)"
      ],
      "execution_count": 2,
      "outputs": [
        {
          "output_type": "display_data",
          "data": {
            "text/plain": [
              ", , P = no\n",
              "\n",
              "       V\n",
              "D       black white\n",
              "  black    97    52\n",
              "  white     9   132\n",
              "\n",
              ", , P = yes\n",
              "\n",
              "       V\n",
              "D       black white\n",
              "  black     6    11\n",
              "  white     0    19\n"
            ]
          },
          "metadata": {
            "tags": []
          }
        }
      ]
    },
    {
      "cell_type": "code",
      "metadata": {
        "id": "8T_dgruG8zDY"
      },
      "source": [
        "# Loglinear models:\n",
        "\n",
        "l1 <- glm(freq ~ D + V+ P, family=poisson, data=deathpenalty)"
      ],
      "execution_count": 3,
      "outputs": []
    },
    {
      "cell_type": "code",
      "metadata": {
        "colab": {
          "base_uri": "https://localhost:8080/",
          "height": 451
        },
        "id": "YobaSAdo81iu",
        "outputId": "5abbd122-7697-4baa-b9f8-44229b5b9c2c"
      },
      "source": [
        "\n",
        "l2 <- glm(freq ~ P + D*V, family=poisson, data=deathpenalty)\n",
        "summary(l2)"
      ],
      "execution_count": 4,
      "outputs": [
        {
          "output_type": "display_data",
          "data": {
            "text/plain": [
              "\n",
              "Call:\n",
              "glm(formula = freq ~ P + D * V, family = poisson, data = deathpenalty)\n",
              "\n",
              "Deviance Residuals: \n",
              "      1        2        3        4        5        6        7        8  \n",
              " 0.5569  -1.4099   1.4118  -1.7531  -0.2012   0.3443  -0.5467   0.5561  \n",
              "\n",
              "Coefficients:\n",
              "              Estimate Std. Error z value Pr(>|z|)    \n",
              "(Intercept)     4.5177     0.1004  44.976  < 2e-16 ***\n",
              "Pyes           -2.0864     0.1767 -11.807  < 2e-16 ***\n",
              "Dwhite         -2.4375     0.3476  -7.013 2.34e-12 ***\n",
              "Vwhite         -0.4916     0.1599  -3.074  0.00212 ** \n",
              "Dwhite:Vwhite   3.3116     0.3786   8.748  < 2e-16 ***\n",
              "---\n",
              "Signif. codes:  0 ‘***’ 0.001 ‘**’ 0.01 ‘*’ 0.05 ‘.’ 0.1 ‘ ’ 1\n",
              "\n",
              "(Dispersion parameter for poisson family taken to be 1)\n",
              "\n",
              "    Null deviance: 395.9153  on 7  degrees of freedom\n",
              "Residual deviance:   8.1316  on 3  degrees of freedom\n",
              "AIC: 53.813\n",
              "\n",
              "Number of Fisher Scoring iterations: 4\n"
            ]
          },
          "metadata": {
            "tags": []
          }
        }
      ]
    },
    {
      "cell_type": "code",
      "metadata": {
        "colab": {
          "base_uri": "https://localhost:8080/",
          "height": 451
        },
        "id": "1AIgvgF2835a",
        "outputId": "f5f872c0-b93f-4237-9acc-90c1f758dc5e"
      },
      "source": [
        "l3 <- glm(freq ~ D+ P*V, family=poisson, data=deathpenalty)\n",
        "summary(l3)"
      ],
      "execution_count": 5,
      "outputs": [
        {
          "output_type": "display_data",
          "data": {
            "text/plain": [
              "\n",
              "Call:\n",
              "glm(formula = freq ~ D + P * V, family = poisson, data = deathpenalty)\n",
              "\n",
              "Deviance Residuals: \n",
              "     1       2       3       4       5       6       7       8  \n",
              " 1.066  -2.427  -1.152   1.486   4.102  -7.380  -4.707   5.260  \n",
              "\n",
              "Coefficients:\n",
              "            Estimate Std. Error z value Pr(>|z|)    \n",
              "(Intercept)  3.98853    0.11131  35.832  < 2e-16 ***\n",
              "Dwhite      -0.03681    0.11079  -0.332   0.7397    \n",
              "Pyes        -2.87168    0.41964  -6.843 7.75e-12 ***\n",
              "Vwhite       0.55150    0.12194   4.523 6.10e-06 ***\n",
              "Pyes:Vwhite  1.05794    0.46354   2.282   0.0225 *  \n",
              "---\n",
              "Signif. codes:  0 ‘***’ 0.001 ‘**’ 0.01 ‘*’ 0.05 ‘.’ 0.1 ‘ ’ 1\n",
              "\n",
              "(Dispersion parameter for poisson family taken to be 1)\n",
              "\n",
              "    Null deviance: 395.92  on 7  degrees of freedom\n",
              "Residual deviance: 131.68  on 3  degrees of freedom\n",
              "AIC: 177.36\n",
              "\n",
              "Number of Fisher Scoring iterations: 6\n"
            ]
          },
          "metadata": {
            "tags": []
          }
        }
      ]
    },
    {
      "cell_type": "code",
      "metadata": {
        "colab": {
          "base_uri": "https://localhost:8080/",
          "height": 451
        },
        "id": "7MzKo8SZ877i",
        "outputId": "5677216d-306d-4ddf-ff78-163d36f431b7"
      },
      "source": [
        "l4 <- glm(freq ~ V + D*P, family=poisson, data=deathpenalty)\n",
        "summary(l4)"
      ],
      "execution_count": 6,
      "outputs": [
        {
          "output_type": "display_data",
          "data": {
            "text/plain": [
              "\n",
              "Call:\n",
              "glm(formula = freq ~ V + D * P, family = poisson, data = deathpenalty)\n",
              "\n",
              "Deviance Residuals: \n",
              "      1        2        3        4        5        6        7        8  \n",
              " 1.7146  -3.6132  -0.0479   0.0657   3.8506  -6.9704  -5.0906   5.6902  \n",
              "\n",
              "Coefficients:\n",
              "            Estimate Std. Error z value Pr(>|z|)    \n",
              "(Intercept)  3.93555    0.11212  35.100  < 2e-16 ***\n",
              "Vwhite       0.64748    0.11662   5.552 2.83e-08 ***\n",
              "Dwhite      -0.05519    0.11749  -0.470    0.639    \n",
              "Pyes        -2.17073    0.25600  -8.480  < 2e-16 ***\n",
              "Dwhite:Pyes  0.16641    0.35391   0.470    0.638    \n",
              "---\n",
              "Signif. codes:  0 ‘***’ 0.001 ‘**’ 0.01 ‘*’ 0.05 ‘.’ 0.1 ‘ ’ 1\n",
              "\n",
              "(Dispersion parameter for poisson family taken to be 1)\n",
              "\n",
              "    Null deviance: 395.92  on 7  degrees of freedom\n",
              "Residual deviance: 137.71  on 3  degrees of freedom\n",
              "AIC: 183.39\n",
              "\n",
              "Number of Fisher Scoring iterations: 5\n"
            ]
          },
          "metadata": {
            "tags": []
          }
        }
      ]
    },
    {
      "cell_type": "code",
      "metadata": {
        "colab": {
          "base_uri": "https://localhost:8080/",
          "height": 469
        },
        "id": "TyLDkuRo890g",
        "outputId": "0b998c80-0bf3-4082-cfb6-56f49b6cf92e"
      },
      "source": [
        "l5 <- glm(freq ~ V*P + D*P, family=poisson, data=deathpenalty)\n",
        "summary(l5)"
      ],
      "execution_count": 7,
      "outputs": [
        {
          "output_type": "display_data",
          "data": {
            "text/plain": [
              "\n",
              "Call:\n",
              "glm(formula = freq ~ V * P + D * P, family = poisson, data = deathpenalty)\n",
              "\n",
              "Deviance Residuals: \n",
              "      1        2        3        4        5        6        7        8  \n",
              " 0.7713  -2.5166  -0.8760   1.6341   4.1972  -7.3256  -4.7863   5.1867  \n",
              "\n",
              "Coefficients:\n",
              "            Estimate Std. Error z value Pr(>|z|)    \n",
              "(Intercept)  3.99750    0.11268  35.476  < 2e-16 ***\n",
              "Vwhite       0.55150    0.12194   4.523 6.10e-06 ***\n",
              "Pyes        -2.95605    0.45870  -6.444 1.16e-10 ***\n",
              "Dwhite      -0.05519    0.11749  -0.470   0.6386    \n",
              "Vwhite:Pyes  1.05794    0.46354   2.282   0.0225 *  \n",
              "Pyes:Dwhite  0.16641    0.35392   0.470   0.6382    \n",
              "---\n",
              "Signif. codes:  0 ‘***’ 0.001 ‘**’ 0.01 ‘*’ 0.05 ‘.’ 0.1 ‘ ’ 1\n",
              "\n",
              "(Dispersion parameter for poisson family taken to be 1)\n",
              "\n",
              "    Null deviance: 395.92  on 7  degrees of freedom\n",
              "Residual deviance: 131.46  on 2  degrees of freedom\n",
              "AIC: 179.14\n",
              "\n",
              "Number of Fisher Scoring iterations: 6\n"
            ]
          },
          "metadata": {
            "tags": []
          }
        }
      ]
    },
    {
      "cell_type": "code",
      "metadata": {
        "colab": {
          "base_uri": "https://localhost:8080/",
          "height": 469
        },
        "id": "4E28PiVK9Bh5",
        "outputId": "f6fab0fb-47bf-4712-ca7c-56b1700ae182"
      },
      "source": [
        "l6 <- glm(freq ~ D*V + D*P, family=poisson, data=deathpenalty)\n",
        "summary(l6)"
      ],
      "execution_count": 8,
      "outputs": [
        {
          "output_type": "display_data",
          "data": {
            "text/plain": [
              "\n",
              "Call:\n",
              "glm(formula = freq ~ D * V + D * P, family = poisson, data = deathpenalty)\n",
              "\n",
              "Deviance Residuals: \n",
              "       1         2         3         4         5         6         7         8  \n",
              " 0.24994  -1.46202   1.62523  -1.52514  -0.09277   0.37142  -0.61322   0.46922  \n",
              "\n",
              "Coefficients:\n",
              "              Estimate Std. Error z value Pr(>|z|)    \n",
              "(Intercept)     4.5267     0.1020  44.396  < 2e-16 ***\n",
              "Dwhite         -2.4559     0.3498  -7.021  2.2e-12 ***\n",
              "Vwhite         -0.4916     0.1599  -3.074  0.00212 ** \n",
              "Pyes           -2.1707     0.2560  -8.480  < 2e-16 ***\n",
              "Dwhite:Vwhite   3.3116     0.3786   8.748  < 2e-16 ***\n",
              "Dwhite:Pyes     0.1664     0.3539   0.470  0.63821    \n",
              "---\n",
              "Signif. codes:  0 ‘***’ 0.001 ‘**’ 0.01 ‘*’ 0.05 ‘.’ 0.1 ‘ ’ 1\n",
              "\n",
              "(Dispersion parameter for poisson family taken to be 1)\n",
              "\n",
              "    Null deviance: 395.9153  on 7  degrees of freedom\n",
              "Residual deviance:   7.9102  on 2  degrees of freedom\n",
              "AIC: 55.592\n",
              "\n",
              "Number of Fisher Scoring iterations: 4\n"
            ]
          },
          "metadata": {
            "tags": []
          }
        }
      ]
    },
    {
      "cell_type": "code",
      "metadata": {
        "colab": {
          "base_uri": "https://localhost:8080/",
          "height": 469
        },
        "id": "NpZE27kT9DT0",
        "outputId": "aa0220bd-ad1d-40f7-9220-a6931fbdf0a6"
      },
      "source": [
        "# the following model appears to be a good fit:\n",
        "l7 <- glm(freq ~ D*V + V*P, family=poisson, data=deathpenalty)\n",
        "summary(l7)"
      ],
      "execution_count": 9,
      "outputs": [
        {
          "output_type": "display_data",
          "data": {
            "text/plain": [
              "\n",
              "Call:\n",
              "glm(formula = freq ~ D * V + V * P, family = poisson, data = deathpenalty)\n",
              "\n",
              "Deviance Residuals: \n",
              "       1         2         3         4         5         6         7         8  \n",
              "-0.47967  -0.98198   0.70243   0.20237   0.18976   0.16368  -0.29660  -0.04887  \n",
              "\n",
              "Coefficients:\n",
              "              Estimate Std. Error z value Pr(>|z|)    \n",
              "(Intercept)     4.5797     0.1011  45.314  < 2e-16 ***\n",
              "Dwhite         -2.4375     0.3476  -7.013 2.34e-12 ***\n",
              "Vwhite         -0.5876     0.1639  -3.586 0.000336 ***\n",
              "Pyes           -2.8717     0.4196  -6.843 7.75e-12 ***\n",
              "Dwhite:Vwhite   3.3116     0.3786   8.748  < 2e-16 ***\n",
              "Vwhite:Pyes     1.0579     0.4635   2.282 0.022471 *  \n",
              "---\n",
              "Signif. codes:  0 ‘***’ 0.001 ‘**’ 0.01 ‘*’ 0.05 ‘.’ 0.1 ‘ ’ 1\n",
              "\n",
              "(Dispersion parameter for poisson family taken to be 1)\n",
              "\n",
              "    Null deviance: 395.9153  on 7  degrees of freedom\n",
              "Residual deviance:   1.8819  on 2  degrees of freedom\n",
              "AIC: 49.563\n",
              "\n",
              "Number of Fisher Scoring iterations: 4\n"
            ]
          },
          "metadata": {
            "tags": []
          }
        }
      ]
    },
    {
      "cell_type": "code",
      "metadata": {
        "colab": {
          "base_uri": "https://localhost:8080/",
          "height": 34
        },
        "id": "5Uh1zscB9GCj",
        "outputId": "2c8cb16e-bac9-4177-a085-9b22e20d9247"
      },
      "source": [
        "# Pearson's chi-squared:\n",
        "sum(resid(l7, type=\"pearson\")^2)"
      ],
      "execution_count": 10,
      "outputs": [
        {
          "output_type": "display_data",
          "data": {
            "text/plain": [
              "[1] 1.431339"
            ],
            "text/latex": "1.43133857863703",
            "text/markdown": "1.43133857863703",
            "text/html": [
              "1.43133857863703"
            ]
          },
          "metadata": {
            "tags": []
          }
        }
      ]
    },
    {
      "cell_type": "code",
      "metadata": {
        "colab": {
          "base_uri": "https://localhost:8080/",
          "height": 503
        },
        "id": "Q_dgpDBo9Ibc",
        "outputId": "23313ac5-cb6e-4877-898d-6fa0ffc702a0"
      },
      "source": [
        "l8 <- glm(freq ~ D*V + V*P +D*P, family=poisson, data=deathpenalty)\n",
        "summary(l8)"
      ],
      "execution_count": 11,
      "outputs": [
        {
          "output_type": "display_data",
          "data": {
            "text/plain": [
              "\n",
              "Call:\n",
              "glm(formula = freq ~ D * V + V * P + D * P, family = poisson, \n",
              "    data = deathpenalty)\n",
              "\n",
              "Deviance Residuals: \n",
              "       1         2         3         4         5         6         7         8  \n",
              " 0.07514  -0.80702  -0.09723   0.13543  -0.02832   0.10988   0.04525  -0.03303  \n",
              "\n",
              "Coefficients:\n",
              "              Estimate Std. Error z value Pr(>|z|)    \n",
              "(Intercept)     4.5781     0.1012  45.230  < 2e-16 ***\n",
              "Dwhite         -2.4177     0.3480  -6.947 3.72e-12 ***\n",
              "Vwhite         -0.6331     0.1714  -3.694 0.000221 ***\n",
              "Pyes           -2.8421     0.4203  -6.761 1.37e-11 ***\n",
              "Dwhite:Vwhite   3.3580     0.3820   8.791  < 2e-16 ***\n",
              "Vwhite:Pyes     1.3242     0.5193   2.550 0.010779 *  \n",
              "Dwhite:Pyes    -0.4402     0.4009  -1.098 0.272155    \n",
              "---\n",
              "Signif. codes:  0 ‘***’ 0.001 ‘**’ 0.01 ‘*’ 0.05 ‘.’ 0.1 ‘ ’ 1\n",
              "\n",
              "(Dispersion parameter for poisson family taken to be 1)\n",
              "\n",
              "    Null deviance: 395.91531  on 7  degrees of freedom\n",
              "Residual deviance:   0.70074  on 1  degrees of freedom\n",
              "AIC: 50.382\n",
              "\n",
              "Number of Fisher Scoring iterations: 4\n"
            ]
          },
          "metadata": {
            "tags": []
          }
        }
      ]
    },
    {
      "cell_type": "code",
      "metadata": {
        "colab": {
          "base_uri": "https://localhost:8080/",
          "height": 34
        },
        "id": "a0Heaepk9KO9",
        "outputId": "b0980717-8bf2-4914-e559-1600a094af4d"
      },
      "source": [
        "# Pearson's chi-squared:\n",
        "sum(resid(l8, type=\"pearson\")^2)"
      ],
      "execution_count": 12,
      "outputs": [
        {
          "output_type": "display_data",
          "data": {
            "text/plain": [
              "[1] 0.3755398"
            ],
            "text/latex": "0.375539831924741",
            "text/markdown": "0.375539831924741",
            "text/html": [
              "0.375539831924741"
            ]
          },
          "metadata": {
            "tags": []
          }
        }
      ]
    },
    {
      "cell_type": "code",
      "metadata": {
        "colab": {
          "base_uri": "https://localhost:8080/",
          "height": 486
        },
        "id": "6EZVl1ZW9Ma1",
        "outputId": "55e14d7a-7418-471c-b8ae-75078c8004a7"
      },
      "source": [
        "# saturated model:\n",
        "l9 <- glm(freq ~ D*V*P, family=poisson, data=deathpenalty)\n",
        "summary(l9)"
      ],
      "execution_count": 13,
      "outputs": [
        {
          "output_type": "display_data",
          "data": {
            "text/plain": [
              "\n",
              "Call:\n",
              "glm(formula = freq ~ D * V * P, family = poisson, data = deathpenalty)\n",
              "\n",
              "Deviance Residuals: \n",
              "[1]  0  0  0  0  0  0  0  0\n",
              "\n",
              "Coefficients:\n",
              "                     Estimate Std. Error z value Pr(>|z|)    \n",
              "(Intercept)            4.5747     0.1015  45.056  < 2e-16 ***\n",
              "Dwhite                -2.3775     0.3485  -6.823 8.92e-12 ***\n",
              "Vwhite                -0.6235     0.1719  -3.628 0.000286 ***\n",
              "Pyes                  -2.7830     0.4207  -6.615 3.71e-11 ***\n",
              "Dwhite:Vwhite          3.3090     0.3850   8.595  < 2e-16 ***\n",
              "Dwhite:Pyes          -21.7169 42247.1657  -0.001 0.999590    \n",
              "Vwhite:Pyes            1.2296     0.5358   2.295 0.021747 *  \n",
              "Dwhite:Vwhite:Pyes    21.3318 42247.1657   0.001 0.999597    \n",
              "---\n",
              "Signif. codes:  0 ‘***’ 0.001 ‘**’ 0.01 ‘*’ 0.05 ‘.’ 0.1 ‘ ’ 1\n",
              "\n",
              "(Dispersion parameter for poisson family taken to be 1)\n",
              "\n",
              "    Null deviance: 3.9592e+02  on 7  degrees of freedom\n",
              "Residual deviance: 4.1223e-10  on 0  degrees of freedom\n",
              "AIC: 51.682\n",
              "\n",
              "Number of Fisher Scoring iterations: 20\n"
            ]
          },
          "metadata": {
            "tags": []
          }
        }
      ]
    },
    {
      "cell_type": "code",
      "metadata": {
        "colab": {
          "base_uri": "https://localhost:8080/",
          "height": 207
        },
        "id": "_Zi1BrCI9PcC",
        "outputId": "1cbde823-508c-4bdd-b275-d71dddc49e21"
      },
      "source": [
        "# Observed values and fitted values for the last three models:\n",
        "cbind(deathpenalty$freq, round(fitted(l7),2), round(fitted(l8),2), round(fitted(l9)))"
      ],
      "execution_count": 14,
      "outputs": [
        {
          "output_type": "display_data",
          "data": {
            "text/plain": [
              "  [,1] [,2]   [,3]   [,4]\n",
              "1  19   21.17  18.67  19 \n",
              "2   0    0.48   0.33   0 \n",
              "3  11    8.83  11.33  11 \n",
              "4   6    5.52   5.67   6 \n",
              "5 132  129.83 132.33 132 \n",
              "6   9    8.52   8.67   9 \n",
              "7  52   54.17  51.67  52 \n",
              "8  97   97.48  97.33  97 "
            ],
            "text/latex": "A matrix: 8 × 4 of type dbl\n\\begin{tabular}{r|llll}\n\t1 &  19 &  21.17 &  18.67 &  19\\\\\n\t2 &   0 &   0.48 &   0.33 &   0\\\\\n\t3 &  11 &   8.83 &  11.33 &  11\\\\\n\t4 &   6 &   5.52 &   5.67 &   6\\\\\n\t5 & 132 & 129.83 & 132.33 & 132\\\\\n\t6 &   9 &   8.52 &   8.67 &   9\\\\\n\t7 &  52 &  54.17 &  51.67 &  52\\\\\n\t8 &  97 &  97.48 &  97.33 &  97\\\\\n\\end{tabular}\n",
            "text/markdown": "\nA matrix: 8 × 4 of type dbl\n\n| 1 |  19 |  21.17 |  18.67 |  19 |\n| 2 |   0 |   0.48 |   0.33 |   0 |\n| 3 |  11 |   8.83 |  11.33 |  11 |\n| 4 |   6 |   5.52 |   5.67 |   6 |\n| 5 | 132 | 129.83 | 132.33 | 132 |\n| 6 |   9 |   8.52 |   8.67 |   9 |\n| 7 |  52 |  54.17 |  51.67 |  52 |\n| 8 |  97 |  97.48 |  97.33 |  97 |\n\n",
            "text/html": [
              "<table>\n",
              "<caption>A matrix: 8 × 4 of type dbl</caption>\n",
              "<tbody>\n",
              "\t<tr><th scope=row>1</th><td> 19</td><td> 21.17</td><td> 18.67</td><td> 19</td></tr>\n",
              "\t<tr><th scope=row>2</th><td>  0</td><td>  0.48</td><td>  0.33</td><td>  0</td></tr>\n",
              "\t<tr><th scope=row>3</th><td> 11</td><td>  8.83</td><td> 11.33</td><td> 11</td></tr>\n",
              "\t<tr><th scope=row>4</th><td>  6</td><td>  5.52</td><td>  5.67</td><td>  6</td></tr>\n",
              "\t<tr><th scope=row>5</th><td>132</td><td>129.83</td><td>132.33</td><td>132</td></tr>\n",
              "\t<tr><th scope=row>6</th><td>  9</td><td>  8.52</td><td>  8.67</td><td>  9</td></tr>\n",
              "\t<tr><th scope=row>7</th><td> 52</td><td> 54.17</td><td> 51.67</td><td> 52</td></tr>\n",
              "\t<tr><th scope=row>8</th><td> 97</td><td> 97.48</td><td> 97.33</td><td> 97</td></tr>\n",
              "</tbody>\n",
              "</table>\n"
            ]
          },
          "metadata": {
            "tags": []
          }
        }
      ]
    },
    {
      "cell_type": "code",
      "metadata": {
        "id": "D2GvGPot9RMw"
      },
      "source": [
        ""
      ],
      "execution_count": null,
      "outputs": []
    }
  ]
}