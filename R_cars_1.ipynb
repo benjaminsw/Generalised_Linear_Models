{
  "nbformat": 4,
  "nbformat_minor": 0,
  "metadata": {
    "colab": {
      "name": "R - cars-1",
      "provenance": [],
      "collapsed_sections": [],
      "authorship_tag": "ABX9TyN+fQFC9uvrWInsyW17IH+a",
      "include_colab_link": true
    },
    "kernelspec": {
      "name": "ir",
      "display_name": "R"
    }
  },
  "cells": [
    {
      "cell_type": "markdown",
      "metadata": {
        "id": "view-in-github",
        "colab_type": "text"
      },
      "source": [
        "<a href=\"https://colab.research.google.com/github/benjaminsw/Generalised_Linear_Models/blob/main/R_cars_1.ipynb\" target=\"_parent\"><img src=\"https://colab.research.google.com/assets/colab-badge.svg\" alt=\"Open In Colab\"/></a>"
      ]
    },
    {
      "cell_type": "code",
      "metadata": {
        "id": "DGwuOpNygxOc",
        "colab": {
          "base_uri": "https://localhost:8080/",
          "height": 443
        },
        "outputId": "f472ef3e-b9c4-4585-8c70-e1b10df1735c"
      },
      "source": [
        "if (!require('gsheet')) install.packages('gsheet'); library('gsheet')\n",
        "if (!require('ggplot2')) install.packages('ggplot2'); library('ggplot2')\n",
        "if (!require('gridExtra')) install.packages('gridExtra'); library('gridExtra')\n",
        "if (!require('nnet')) install.packages('nnet'); library('nnet')\n",
        "if (!require('sjPlot')) install.packages('sjPlot'); library('sjPlot')\n",
        "if (!require('ggeffects')) install.packages('ggeffects'); library('ggeffects')\n",
        "if (!require('MASS')) install.packages('MASS'); library('MASS')\n",
        "\n",
        "# set plot size\n",
        "options(repr.plot.width=16, repr.plot.height=8)"
      ],
      "execution_count": 2,
      "outputs": [
        {
          "output_type": "stream",
          "text": [
            "Loading required package: sjPlot\n",
            "\n",
            "Warning message in library(package, lib.loc = lib.loc, character.only = TRUE, logical.return = TRUE, :\n",
            "“there is no package called ‘sjPlot’”\n",
            "Installing package into ‘/usr/local/lib/R/site-library’\n",
            "(as ‘lib’ is unspecified)\n",
            "\n",
            "also installing the dependencies ‘nloptr’, ‘lme4’, ‘sjstats’\n",
            "\n",
            "\n",
            "Warning message in install.packages(\"sjPlot\"):\n",
            "“installation of package ‘nloptr’ had non-zero exit status”\n",
            "Warning message in install.packages(\"sjPlot\"):\n",
            "“installation of package ‘lme4’ had non-zero exit status”\n",
            "Warning message in install.packages(\"sjPlot\"):\n",
            "“installation of package ‘sjstats’ had non-zero exit status”\n",
            "Warning message in install.packages(\"sjPlot\"):\n",
            "“installation of package ‘sjPlot’ had non-zero exit status”\n"
          ],
          "name": "stderr"
        },
        {
          "output_type": "error",
          "ename": "ERROR",
          "evalue": "ignored",
          "traceback": [
            "Error in library(\"sjPlot\"): there is no package called ‘sjPlot’\nTraceback:\n",
            "1. library(\"sjPlot\")"
          ]
        }
      ]
    },
    {
      "cell_type": "code",
      "metadata": {
        "id": "Yi9qFXeimOFV"
      },
      "source": [
        "url <- 'https://docs.google.com/spreadsheets/d/1XQqBJwWZnFIeADsmr7bBXDY0hS49GaxEqypM8bgGlYc/edit?usp=sharing'\n",
        "cars <- gsheet2tbl(url)\n",
        "cars$resp <- factor(cars$response, levels=c(\"no/little\", \"important\", \"very important\"))\n",
        "cars"
      ],
      "execution_count": null,
      "outputs": []
    },
    {
      "cell_type": "code",
      "metadata": {
        "id": "vf3LrY1_msIU"
      },
      "source": [
        "g_legend <- function(a.gplot){\n",
        "  tmp <- ggplot_gtable(ggplot_build(a.gplot))\n",
        "  leg <- which(sapply(tmp$grobs, function(x) x$name) == \"guide-box\")\n",
        "  legend <- tmp$grobs[[leg]]\n",
        "  return(legend)}\n",
        "\n",
        "p1 <- ggplot(cars, aes(x = cars$age, y = cars$frequency, fill = response)) +\n",
        "  geom_bar(stat = \"identity\", position = \"dodge\")+\n",
        "  xlab(\"Age groups\") + ylab(\"Frequency\") +\n",
        "  theme(legend.position = \"none\")\n",
        "\n",
        "  p2 <- ggplot(cars, aes(x = cars$sex, y = cars$frequency, fill = response)) +\n",
        "  geom_bar(stat = \"identity\", position = \"dodge\")+\n",
        "  xlab(\"Sex\") + ylab(\"Frequency\") +\n",
        "  scale_fill_discrete(name = \"Response category\") + \n",
        "  theme(legend.position = \"bottom\")\n",
        "\n",
        "carsLeg <- g_legend(p2)\n",
        "grid.arrange(arrangeGrob(p1 + theme(legend.position=\"none\"),\n",
        "                         p2 + theme(legend.position=\"none\"),\n",
        "                         nrow=1), nrow = 2, carsLeg, heights=c(10, 1))"
      ],
      "execution_count": null,
      "outputs": []
    },
    {
      "cell_type": "code",
      "metadata": {
        "id": "W3vqGLNxsPfe"
      },
      "source": [
        "m1 <- multinom(resp~age+sex, weight=frequency, data=cars)\n",
        "summary(m1)"
      ],
      "execution_count": null,
      "outputs": []
    },
    {
      "cell_type": "code",
      "metadata": {
        "id": "LPp_T2uLsSHG"
      },
      "source": [
        "# Null model:\n",
        "m0 <- multinom(resp~1, weight=frequency, data=cars)\n",
        "summary(m0)"
      ],
      "execution_count": null,
      "outputs": []
    },
    {
      "cell_type": "code",
      "metadata": {
        "id": "dOZ9R1_Ns0Kn"
      },
      "source": [
        "# Plot of coefficient estimates on odds ratio scale:\n",
        "plot_model(m1)"
      ],
      "execution_count": null,
      "outputs": []
    },
    {
      "cell_type": "code",
      "metadata": {
        "id": "T4F6dvT3s_Ql"
      },
      "source": [
        "# Plot of predicted probabilities (fitted values):\n",
        "p1 <- ggpredict(m1, c(\"sex\", \"age\"))\n",
        "plot(p1)"
      ],
      "execution_count": null,
      "outputs": []
    },
    {
      "cell_type": "code",
      "metadata": {
        "id": "tDrIcEartL8A"
      },
      "source": [
        "m2 <- multinom(resp~age*sex, weight=frequency, data=cars)\n",
        "summary(m2)"
      ],
      "execution_count": null,
      "outputs": []
    },
    {
      "cell_type": "code",
      "metadata": {
        "id": "8XufzJ_ltPx_"
      },
      "source": [
        "anova(m1,m2)"
      ],
      "execution_count": null,
      "outputs": []
    },
    {
      "cell_type": "code",
      "metadata": {
        "id": "g4GAt1bKtXo0"
      },
      "source": [
        "# Linear term for age:\n",
        "cars$agelin <- 0\n",
        "cars$agelin[cars$age==\"24-40\"] <- 1\n",
        "cars$agelin[cars$age==\"> 40\"] <- 2\n",
        "cars"
      ],
      "execution_count": null,
      "outputs": []
    },
    {
      "cell_type": "code",
      "metadata": {
        "id": "cGEtUpChtZl6"
      },
      "source": [
        "m3 <- multinom(resp~agelin+sex, weight=frequency, data=cars)\n",
        "summary(m3)"
      ],
      "execution_count": null,
      "outputs": []
    },
    {
      "cell_type": "code",
      "metadata": {
        "id": "zGCqYjgXta-e"
      },
      "source": [
        "plot_model(m3)"
      ],
      "execution_count": null,
      "outputs": []
    },
    {
      "cell_type": "code",
      "metadata": {
        "id": "op2JFU8Jtd_F"
      },
      "source": [
        "# Fitted values (predicted probabilities):\n",
        "p3 <- ggpredict(m3, c(\"sex\", \"agelin\"))\n",
        "plot(p3)"
      ],
      "execution_count": null,
      "outputs": []
    },
    {
      "cell_type": "code",
      "metadata": {
        "id": "8Ewb9wG1tfVg"
      },
      "source": [
        "m4 <- polr(resp ~ sex + age, data=cars, weight=frequency)\n",
        "summary(m4)"
      ],
      "execution_count": null,
      "outputs": []
    },
    {
      "cell_type": "code",
      "metadata": {
        "id": "XuEWihPptpsv"
      },
      "source": [
        "# Could also try a model with a linear term for age\n",
        "m5 <- polr(resp ~ sex + agelin, data=cars, weight=frequency)\n",
        "summary(m5)"
      ],
      "execution_count": null,
      "outputs": []
    },
    {
      "cell_type": "code",
      "metadata": {
        "id": "fzy4jr2rtr6b"
      },
      "source": [
        "# Predicted probabilities:\n",
        "p5 <- ggpredict(m5)\n",
        "plot(p5)"
      ],
      "execution_count": null,
      "outputs": []
    }
  ]
}