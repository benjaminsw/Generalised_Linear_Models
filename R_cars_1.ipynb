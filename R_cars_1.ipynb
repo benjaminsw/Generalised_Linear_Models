{
  "nbformat": 4,
  "nbformat_minor": 0,
  "metadata": {
    "colab": {
      "name": "R - cars-1",
      "provenance": [],
      "collapsed_sections": [],
      "authorship_tag": "ABX9TyNyb7cqE4Kw8P3B5ftXKqc1",
      "include_colab_link": true
    },
    "kernelspec": {
      "name": "ir",
      "display_name": "R"
    }
  },
  "cells": [
    {
      "cell_type": "markdown",
      "metadata": {
        "id": "view-in-github",
        "colab_type": "text"
      },
      "source": [
        "<a href=\"https://colab.research.google.com/github/benjaminsw/Generalised_Linear_Models/blob/main/R_cars_1.ipynb\" target=\"_parent\"><img src=\"https://colab.research.google.com/assets/colab-badge.svg\" alt=\"Open In Colab\"/></a>"
      ]
    },
    {
      "cell_type": "code",
      "metadata": {
        "id": "DGwuOpNygxOc",
        "colab": {
          "base_uri": "https://localhost:8080/",
          "height": 443
        },
        "outputId": "de8b208e-75ef-49ce-9497-d934dce808da"
      },
      "source": [
        "if (!require('gsheet')) install.packages('gsheet'); library('gsheet')\n",
        "if (!require('ggplot2')) install.packages('ggplot2'); library('ggplot2')\n",
        "if (!require('gridExtra')) install.packages('gridExtra'); library('gridExtra')\n",
        "if (!require('nnet')) install.packages('nnet'); library('nnet')\n",
        "if (!require('ggeffects')) install.packages('ggeffects'); library('ggeffects')\n",
        "if (!require('MASS')) install.packages('MASS'); library('MASS')\n",
        "\n",
        "if (!require('sjPlot')) install.packages('sjPlot'); library('sjPlot')\n",
        "#if (!require('devtools')) install.packages('devtools'); library('devtools')\n",
        "#devtools::install_github(\"strengejacke/sjPlot\")\n",
        "\n",
        "# set plot size\n",
        "options(repr.plot.width=16, repr.plot.height=8)"
      ],
      "execution_count": 6,
      "outputs": [
        {
          "output_type": "stream",
          "text": [
            "Loading required package: sjPlot\n",
            "\n",
            "Warning message in library(package, lib.loc = lib.loc, character.only = TRUE, logical.return = TRUE, :\n",
            "“there is no package called ‘sjPlot’”\n",
            "Installing package into ‘/usr/local/lib/R/site-library’\n",
            "(as ‘lib’ is unspecified)\n",
            "\n",
            "also installing the dependencies ‘nloptr’, ‘lme4’, ‘sjstats’\n",
            "\n",
            "\n",
            "Warning message in install.packages(\"sjPlot\"):\n",
            "“installation of package ‘nloptr’ had non-zero exit status”\n",
            "Warning message in install.packages(\"sjPlot\"):\n",
            "“installation of package ‘lme4’ had non-zero exit status”\n",
            "Warning message in install.packages(\"sjPlot\"):\n",
            "“installation of package ‘sjstats’ had non-zero exit status”\n",
            "Warning message in install.packages(\"sjPlot\"):\n",
            "“installation of package ‘sjPlot’ had non-zero exit status”\n"
          ],
          "name": "stderr"
        },
        {
          "output_type": "error",
          "ename": "ERROR",
          "evalue": "ignored",
          "traceback": [
            "Error in library(\"sjPlot\"): there is no package called ‘sjPlot’\nTraceback:\n",
            "1. library(\"sjPlot\")"
          ]
        }
      ]
    },
    {
      "cell_type": "code",
      "metadata": {
        "colab": {
          "base_uri": "https://localhost:8080/",
          "height": 464
        },
        "id": "Yi9qFXeimOFV",
        "outputId": "246fc3f6-33ee-454e-e339-1feb4d0d05ec"
      },
      "source": [
        "url <- 'https://docs.google.com/spreadsheets/d/1XQqBJwWZnFIeADsmr7bBXDY0hS49GaxEqypM8bgGlYc/edit?usp=sharing'\n",
        "cars <- gsheet2tbl(url)\n",
        "cars$resp <- factor(cars$response, levels=c(\"no/little\", \"important\", \"very important\"))\n",
        "cars"
      ],
      "execution_count": 7,
      "outputs": [
        {
          "output_type": "display_data",
          "data": {
            "text/plain": [
              "   sex   age   response       frequency resp          \n",
              "1  women 18-23 no/little      26        no/little     \n",
              "2  women 18-23 important      12        important     \n",
              "3  women 18-23 very important  7        very important\n",
              "4  women 24-40 no/little       9        no/little     \n",
              "5  women 24-40 important      21        important     \n",
              "6  women 24-40 very important 15        very important\n",
              "7  women > 40  no/little       5        no/little     \n",
              "8  women > 40  important      14        important     \n",
              "9  women > 40  very important 41        very important\n",
              "10 men   18-23 no/little      40        no/little     \n",
              "11 men   18-23 important      17        important     \n",
              "12 men   18-23 very important  8        very important\n",
              "13 men   24-40 no/little      17        no/little     \n",
              "14 men   24-40 important      15        important     \n",
              "15 men   24-40 very important 12        very important\n",
              "16 men   > 40  no/little       8        no/little     \n",
              "17 men   > 40  important      15        important     \n",
              "18 men   > 40  very important 18        very important"
            ],
            "text/latex": "A spec\\_tbl\\_df: 18 × 5\n\\begin{tabular}{lllll}\n sex & age & response & frequency & resp\\\\\n <chr> & <chr> & <chr> & <dbl> & <fct>\\\\\n\\hline\n\t women & 18-23 & no/little      & 26 & no/little     \\\\\n\t women & 18-23 & important      & 12 & important     \\\\\n\t women & 18-23 & very important &  7 & very important\\\\\n\t women & 24-40 & no/little      &  9 & no/little     \\\\\n\t women & 24-40 & important      & 21 & important     \\\\\n\t women & 24-40 & very important & 15 & very important\\\\\n\t women & > 40  & no/little      &  5 & no/little     \\\\\n\t women & > 40  & important      & 14 & important     \\\\\n\t women & > 40  & very important & 41 & very important\\\\\n\t men   & 18-23 & no/little      & 40 & no/little     \\\\\n\t men   & 18-23 & important      & 17 & important     \\\\\n\t men   & 18-23 & very important &  8 & very important\\\\\n\t men   & 24-40 & no/little      & 17 & no/little     \\\\\n\t men   & 24-40 & important      & 15 & important     \\\\\n\t men   & 24-40 & very important & 12 & very important\\\\\n\t men   & > 40  & no/little      &  8 & no/little     \\\\\n\t men   & > 40  & important      & 15 & important     \\\\\n\t men   & > 40  & very important & 18 & very important\\\\\n\\end{tabular}\n",
            "text/markdown": "\nA spec_tbl_df: 18 × 5\n\n| sex &lt;chr&gt; | age &lt;chr&gt; | response &lt;chr&gt; | frequency &lt;dbl&gt; | resp &lt;fct&gt; |\n|---|---|---|---|---|\n| women | 18-23 | no/little      | 26 | no/little      |\n| women | 18-23 | important      | 12 | important      |\n| women | 18-23 | very important |  7 | very important |\n| women | 24-40 | no/little      |  9 | no/little      |\n| women | 24-40 | important      | 21 | important      |\n| women | 24-40 | very important | 15 | very important |\n| women | &gt; 40  | no/little      |  5 | no/little      |\n| women | &gt; 40  | important      | 14 | important      |\n| women | &gt; 40  | very important | 41 | very important |\n| men   | 18-23 | no/little      | 40 | no/little      |\n| men   | 18-23 | important      | 17 | important      |\n| men   | 18-23 | very important |  8 | very important |\n| men   | 24-40 | no/little      | 17 | no/little      |\n| men   | 24-40 | important      | 15 | important      |\n| men   | 24-40 | very important | 12 | very important |\n| men   | &gt; 40  | no/little      |  8 | no/little      |\n| men   | &gt; 40  | important      | 15 | important      |\n| men   | &gt; 40  | very important | 18 | very important |\n\n",
            "text/html": [
              "<table>\n",
              "<caption>A spec_tbl_df: 18 × 5</caption>\n",
              "<thead>\n",
              "\t<tr><th scope=col>sex</th><th scope=col>age</th><th scope=col>response</th><th scope=col>frequency</th><th scope=col>resp</th></tr>\n",
              "\t<tr><th scope=col>&lt;chr&gt;</th><th scope=col>&lt;chr&gt;</th><th scope=col>&lt;chr&gt;</th><th scope=col>&lt;dbl&gt;</th><th scope=col>&lt;fct&gt;</th></tr>\n",
              "</thead>\n",
              "<tbody>\n",
              "\t<tr><td>women</td><td>18-23</td><td>no/little     </td><td>26</td><td>no/little     </td></tr>\n",
              "\t<tr><td>women</td><td>18-23</td><td>important     </td><td>12</td><td>important     </td></tr>\n",
              "\t<tr><td>women</td><td>18-23</td><td>very important</td><td> 7</td><td>very important</td></tr>\n",
              "\t<tr><td>women</td><td>24-40</td><td>no/little     </td><td> 9</td><td>no/little     </td></tr>\n",
              "\t<tr><td>women</td><td>24-40</td><td>important     </td><td>21</td><td>important     </td></tr>\n",
              "\t<tr><td>women</td><td>24-40</td><td>very important</td><td>15</td><td>very important</td></tr>\n",
              "\t<tr><td>women</td><td>&gt; 40 </td><td><span style=white-space:pre-wrap>no/little     </span></td><td> 5</td><td><span style=white-space:pre-wrap>no/little     </span></td></tr>\n",
              "\t<tr><td>women</td><td>&gt; 40 </td><td><span style=white-space:pre-wrap>important     </span></td><td>14</td><td><span style=white-space:pre-wrap>important     </span></td></tr>\n",
              "\t<tr><td>women</td><td>&gt; 40 </td><td>very important</td><td>41</td><td>very important</td></tr>\n",
              "\t<tr><td>men  </td><td>18-23</td><td>no/little     </td><td>40</td><td>no/little     </td></tr>\n",
              "\t<tr><td>men  </td><td>18-23</td><td>important     </td><td>17</td><td>important     </td></tr>\n",
              "\t<tr><td>men  </td><td>18-23</td><td>very important</td><td> 8</td><td>very important</td></tr>\n",
              "\t<tr><td>men  </td><td>24-40</td><td>no/little     </td><td>17</td><td>no/little     </td></tr>\n",
              "\t<tr><td>men  </td><td>24-40</td><td>important     </td><td>15</td><td>important     </td></tr>\n",
              "\t<tr><td>men  </td><td>24-40</td><td>very important</td><td>12</td><td>very important</td></tr>\n",
              "\t<tr><td><span style=white-space:pre-wrap>men  </span></td><td>&gt; 40 </td><td><span style=white-space:pre-wrap>no/little     </span></td><td> 8</td><td><span style=white-space:pre-wrap>no/little     </span></td></tr>\n",
              "\t<tr><td><span style=white-space:pre-wrap>men  </span></td><td>&gt; 40 </td><td><span style=white-space:pre-wrap>important     </span></td><td>15</td><td><span style=white-space:pre-wrap>important     </span></td></tr>\n",
              "\t<tr><td><span style=white-space:pre-wrap>men  </span></td><td>&gt; 40 </td><td>very important</td><td>18</td><td>very important</td></tr>\n",
              "</tbody>\n",
              "</table>\n"
            ]
          },
          "metadata": {
            "tags": []
          }
        }
      ]
    },
    {
      "cell_type": "code",
      "metadata": {
        "colab": {
          "base_uri": "https://localhost:8080/",
          "height": 497
        },
        "id": "vf3LrY1_msIU",
        "outputId": "2c5f0cc0-e4a2-4280-f856-7127b8729af2"
      },
      "source": [
        "g_legend <- function(a.gplot){\n",
        "  tmp <- ggplot_gtable(ggplot_build(a.gplot))\n",
        "  leg <- which(sapply(tmp$grobs, function(x) x$name) == \"guide-box\")\n",
        "  legend <- tmp$grobs[[leg]]\n",
        "  return(legend)}\n",
        "\n",
        "p1 <- ggplot(cars, aes(x = cars$age, y = cars$frequency, fill = response)) +\n",
        "  geom_bar(stat = \"identity\", position = \"dodge\")+\n",
        "  xlab(\"Age groups\") + ylab(\"Frequency\") +\n",
        "  theme(legend.position = \"none\")\n",
        "\n",
        "  p2 <- ggplot(cars, aes(x = cars$sex, y = cars$frequency, fill = response)) +\n",
        "  geom_bar(stat = \"identity\", position = \"dodge\")+\n",
        "  xlab(\"Sex\") + ylab(\"Frequency\") +\n",
        "  scale_fill_discrete(name = \"Response category\") + \n",
        "  theme(legend.position = \"bottom\")\n",
        "\n",
        "carsLeg <- g_legend(p2)\n",
        "grid.arrange(arrangeGrob(p1 + theme(legend.position=\"none\"),\n",
        "                         p2 + theme(legend.position=\"none\"),\n",
        "                         nrow=1), nrow = 2, carsLeg, heights=c(10, 1))"
      ],
      "execution_count": 8,
      "outputs": [
        {
          "output_type": "display_data",
          "data": {
            "image/png": "[encoded data removed]",
            "text/plain": [
              "plot without title"
            ]
          },
          "metadata": {
            "tags": [],
            "image/png": {
              "width": 960,
              "height": 480
            }
          }
        }
      ]
    },
    {
      "cell_type": "code",
      "metadata": {
        "colab": {
          "base_uri": "https://localhost:8080/",
          "height": 364
        },
        "id": "W3vqGLNxsPfe",
        "outputId": "c3928b53-4740-40ee-b7c1-f0abf7199a71"
      },
      "source": [
        "m1 <- multinom(resp~age+sex, weight=frequency, data=cars)\n",
        "summary(m1)"
      ],
      "execution_count": 9,
      "outputs": [
        {
          "output_type": "stream",
          "text": [
            "# weights:  15 (8 variable)\n",
            "initial  value 329.583687 \n",
            "iter  10 value 290.511620\n",
            "final  value 290.351098 \n",
            "converged\n"
          ],
          "name": "stdout"
        },
        {
          "output_type": "display_data",
          "data": {
            "text/plain": [
              "Call:\n",
              "multinom(formula = resp ~ age + sex, data = cars, weights = frequency)\n",
              "\n",
              "Coefficients:\n",
              "               (Intercept)  age18-23   age24-40  sexwomen\n",
              "important         0.608781 -1.587697 -0.4594392 0.3881190\n",
              "very important    1.064651 -2.916749 -1.4386341 0.8130152\n",
              "\n",
              "Std. Errors:\n",
              "               (Intercept)  age18-23  age24-40  sexwomen\n",
              "important        0.3652676 0.4028982 0.4226840 0.3005110\n",
              "very important   0.3496457 0.4229275 0.4158218 0.3210382\n",
              "\n",
              "Residual Deviance: 580.7022 \n",
              "AIC: 596.7022 "
            ]
          },
          "metadata": {
            "tags": []
          }
        }
      ]
    },
    {
      "cell_type": "code",
      "metadata": {
        "colab": {
          "base_uri": "https://localhost:8080/",
          "height": 347
        },
        "id": "LPp_T2uLsSHG",
        "outputId": "3e168177-2d9e-4f1a-d7de-d791f201fd67"
      },
      "source": [
        "# Null model:\n",
        "m0 <- multinom(resp~1, weight=frequency, data=cars)\n",
        "summary(m0)"
      ],
      "execution_count": 10,
      "outputs": [
        {
          "output_type": "stream",
          "text": [
            "# weights:  6 (2 variable)\n",
            "initial  value 329.583687 \n",
            "final  value 329.272024 \n",
            "converged\n"
          ],
          "name": "stdout"
        },
        {
          "output_type": "display_data",
          "data": {
            "text/plain": [
              "Call:\n",
              "multinom(formula = resp ~ 1, data = cars, weights = frequency)\n",
              "\n",
              "Coefficients:\n",
              "               (Intercept)\n",
              "important      -0.11066559\n",
              "very important -0.03883986\n",
              "\n",
              "Std. Errors:\n",
              "               (Intercept)\n",
              "important        0.1419933\n",
              "very important   0.1393729\n",
              "\n",
              "Residual Deviance: 658.544 \n",
              "AIC: 662.544 "
            ]
          },
          "metadata": {
            "tags": []
          }
        }
      ]
    },
    {
      "cell_type": "code",
      "metadata": {
        "colab": {
          "base_uri": "https://localhost:8080/",
          "height": 95
        },
        "id": "dOZ9R1_Ns0Kn",
        "outputId": "7aeef995-6f46-4f86-a219-5783d3d21194"
      },
      "source": [
        "# Plot of coefficient estimates on odds ratio scale:\n",
        "plot_model(m1)"
      ],
      "execution_count": 11,
      "outputs": [
        {
          "output_type": "error",
          "ename": "ERROR",
          "evalue": "ignored",
          "traceback": [
            "Error in plot_model(m1): could not find function \"plot_model\"\nTraceback:\n"
          ]
        }
      ]
    },
    {
      "cell_type": "code",
      "metadata": {
        "colab": {
          "base_uri": "https://localhost:8080/",
          "height": 497
        },
        "id": "T4F6dvT3s_Ql",
        "outputId": "91bf9a7f-0e16-4983-c92b-a7c1979f49fc"
      },
      "source": [
        "# Plot of predicted probabilities (fitted values):\n",
        "p1 <- ggpredict(m1, c(\"sex\", \"age\"))\n",
        "plot(p1)"
      ],
      "execution_count": 12,
      "outputs": [
        {
          "output_type": "display_data",
          "data": {
            "image/png": "[encoded data removed]",
            "text/plain": [
              "plot without title"
            ]
          },
          "metadata": {
            "tags": [],
            "image/png": {
              "width": 960,
              "height": 480
            }
          }
        }
      ]
    },
    {
      "cell_type": "code",
      "metadata": {
        "colab": {
          "base_uri": "https://localhost:8080/",
          "height": 469
        },
        "id": "tDrIcEartL8A",
        "outputId": "bafbca06-c351-4ae0-f4f0-9767fa66286e"
      },
      "source": [
        "m2 <- multinom(resp~age*sex, weight=frequency, data=cars)\n",
        "summary(m2)"
      ],
      "execution_count": 13,
      "outputs": [
        {
          "output_type": "stream",
          "text": [
            "# weights:  21 (12 variable)\n",
            "initial  value 329.583687 \n",
            "iter  10 value 288.669790\n",
            "final  value 288.381742 \n",
            "converged\n"
          ],
          "name": "stdout"
        },
        {
          "output_type": "display_data",
          "data": {
            "text/plain": [
              "Call:\n",
              "multinom(formula = resp ~ age * sex, data = cars, weights = frequency)\n",
              "\n",
              "Coefficients:\n",
              "               (Intercept)  age18-23   age24-40 sexwomen age18-23:sexwomen\n",
              "important        0.6286717 -1.484289 -0.7538545 0.400779        -0.3183313\n",
              "very important   0.8107828 -2.420116 -1.1591118 1.293297        -0.9962267\n",
              "               age24-40:sexwomen\n",
              "important              0.5717662\n",
              "very important        -0.4341134\n",
              "\n",
              "Std. Errors:\n",
              "               (Intercept)  age18-23  age24-40  sexwomen age18-23:sexwomen\n",
              "important        0.4377836 0.5248593 0.5631557 0.6804957         0.8177344\n",
              "very important   0.4249191 0.5749322 0.5680785 0.6363416         0.8580500\n",
              "               age24-40:sexwomen\n",
              "important              0.8644638\n",
              "very important         0.8513933\n",
              "\n",
              "Residual Deviance: 576.7635 \n",
              "AIC: 600.7635 "
            ]
          },
          "metadata": {
            "tags": []
          }
        }
      ]
    },
    {
      "cell_type": "code",
      "metadata": {
        "colab": {
          "base_uri": "https://localhost:8080/",
          "height": 122
        },
        "id": "8XufzJ_ltPx_",
        "outputId": "76622e54-185f-4d3b-b212-da16816f5380"
      },
      "source": [
        "anova(m1,m2)"
      ],
      "execution_count": 14,
      "outputs": [
        {
          "output_type": "display_data",
          "data": {
            "text/plain": [
              "  Model     Resid. df Resid. Dev Test      Df LR stat. Pr(Chi)  \n",
              "1 age + sex 28        580.7022          NA          NA        NA\n",
              "2 age * sex 24        576.7635   1 vs 2  4    3.938712 0.4143638"
            ],
            "text/latex": "A Anova: 2 × 7\n\\begin{tabular}{lllllll}\n Model & Resid. df & Resid. Dev & Test &    Df & LR stat. & Pr(Chi)\\\\\n <chr> & <dbl> & <dbl> & <chr> & <dbl> & <dbl> & <dbl>\\\\\n\\hline\n\t age + sex & 28 & 580.7022 &        & NA &       NA &        NA\\\\\n\t age * sex & 24 & 576.7635 & 1 vs 2 &  4 & 3.938712 & 0.4143638\\\\\n\\end{tabular}\n",
            "text/markdown": "\nA Anova: 2 × 7\n\n| Model &lt;chr&gt; | Resid. df &lt;dbl&gt; | Resid. Dev &lt;dbl&gt; | Test &lt;chr&gt; |    Df &lt;dbl&gt; | LR stat. &lt;dbl&gt; | Pr(Chi) &lt;dbl&gt; |\n|---|---|---|---|---|---|---|\n| age + sex | 28 | 580.7022 | <!----> | NA |       NA |        NA |\n| age * sex | 24 | 576.7635 | 1 vs 2 |  4 | 3.938712 | 0.4143638 |\n\n",
            "text/html": [
              "<table>\n",
              "<caption>A Anova: 2 × 7</caption>\n",
              "<thead>\n",
              "\t<tr><th scope=col>Model</th><th scope=col>Resid. df</th><th scope=col>Resid. Dev</th><th scope=col>Test</th><th scope=col>   Df</th><th scope=col>LR stat.</th><th scope=col>Pr(Chi)</th></tr>\n",
              "\t<tr><th scope=col>&lt;chr&gt;</th><th scope=col>&lt;dbl&gt;</th><th scope=col>&lt;dbl&gt;</th><th scope=col>&lt;chr&gt;</th><th scope=col>&lt;dbl&gt;</th><th scope=col>&lt;dbl&gt;</th><th scope=col>&lt;dbl&gt;</th></tr>\n",
              "</thead>\n",
              "<tbody>\n",
              "\t<tr><td>age + sex</td><td>28</td><td>580.7022</td><td>      </td><td>NA</td><td>      NA</td><td>       NA</td></tr>\n",
              "\t<tr><td>age * sex</td><td>24</td><td>576.7635</td><td>1 vs 2</td><td> 4</td><td>3.938712</td><td>0.4143638</td></tr>\n",
              "</tbody>\n",
              "</table>\n"
            ]
          },
          "metadata": {
            "tags": []
          }
        }
      ]
    },
    {
      "cell_type": "code",
      "metadata": {
        "colab": {
          "base_uri": "https://localhost:8080/",
          "height": 464
        },
        "id": "g4GAt1bKtXo0",
        "outputId": "ed21b39b-03dc-45a4-9c6d-22403dfe5d4d"
      },
      "source": [
        "# Linear term for age:\n",
        "cars$agelin <- 0\n",
        "cars$agelin[cars$age==\"24-40\"] <- 1\n",
        "cars$agelin[cars$age==\"> 40\"] <- 2\n",
        "cars"
      ],
      "execution_count": 15,
      "outputs": [
        {
          "output_type": "display_data",
          "data": {
            "text/plain": [
              "   sex   age   response       frequency resp           agelin\n",
              "1  women 18-23 no/little      26        no/little      0     \n",
              "2  women 18-23 important      12        important      0     \n",
              "3  women 18-23 very important  7        very important 0     \n",
              "4  women 24-40 no/little       9        no/little      1     \n",
              "5  women 24-40 important      21        important      1     \n",
              "6  women 24-40 very important 15        very important 1     \n",
              "7  women > 40  no/little       5        no/little      2     \n",
              "8  women > 40  important      14        important      2     \n",
              "9  women > 40  very important 41        very important 2     \n",
              "10 men   18-23 no/little      40        no/little      0     \n",
              "11 men   18-23 important      17        important      0     \n",
              "12 men   18-23 very important  8        very important 0     \n",
              "13 men   24-40 no/little      17        no/little      1     \n",
              "14 men   24-40 important      15        important      1     \n",
              "15 men   24-40 very important 12        very important 1     \n",
              "16 men   > 40  no/little       8        no/little      2     \n",
              "17 men   > 40  important      15        important      2     \n",
              "18 men   > 40  very important 18        very important 2     "
            ],
            "text/latex": "A spec\\_tbl\\_df: 18 × 6\n\\begin{tabular}{llllll}\n sex & age & response & frequency & resp & agelin\\\\\n <chr> & <chr> & <chr> & <dbl> & <fct> & <dbl>\\\\\n\\hline\n\t women & 18-23 & no/little      & 26 & no/little      & 0\\\\\n\t women & 18-23 & important      & 12 & important      & 0\\\\\n\t women & 18-23 & very important &  7 & very important & 0\\\\\n\t women & 24-40 & no/little      &  9 & no/little      & 1\\\\\n\t women & 24-40 & important      & 21 & important      & 1\\\\\n\t women & 24-40 & very important & 15 & very important & 1\\\\\n\t women & > 40  & no/little      &  5 & no/little      & 2\\\\\n\t women & > 40  & important      & 14 & important      & 2\\\\\n\t women & > 40  & very important & 41 & very important & 2\\\\\n\t men   & 18-23 & no/little      & 40 & no/little      & 0\\\\\n\t men   & 18-23 & important      & 17 & important      & 0\\\\\n\t men   & 18-23 & very important &  8 & very important & 0\\\\\n\t men   & 24-40 & no/little      & 17 & no/little      & 1\\\\\n\t men   & 24-40 & important      & 15 & important      & 1\\\\\n\t men   & 24-40 & very important & 12 & very important & 1\\\\\n\t men   & > 40  & no/little      &  8 & no/little      & 2\\\\\n\t men   & > 40  & important      & 15 & important      & 2\\\\\n\t men   & > 40  & very important & 18 & very important & 2\\\\\n\\end{tabular}\n",
            "text/markdown": "\nA spec_tbl_df: 18 × 6\n\n| sex &lt;chr&gt; | age &lt;chr&gt; | response &lt;chr&gt; | frequency &lt;dbl&gt; | resp &lt;fct&gt; | agelin &lt;dbl&gt; |\n|---|---|---|---|---|---|\n| women | 18-23 | no/little      | 26 | no/little      | 0 |\n| women | 18-23 | important      | 12 | important      | 0 |\n| women | 18-23 | very important |  7 | very important | 0 |\n| women | 24-40 | no/little      |  9 | no/little      | 1 |\n| women | 24-40 | important      | 21 | important      | 1 |\n| women | 24-40 | very important | 15 | very important | 1 |\n| women | &gt; 40  | no/little      |  5 | no/little      | 2 |\n| women | &gt; 40  | important      | 14 | important      | 2 |\n| women | &gt; 40  | very important | 41 | very important | 2 |\n| men   | 18-23 | no/little      | 40 | no/little      | 0 |\n| men   | 18-23 | important      | 17 | important      | 0 |\n| men   | 18-23 | very important |  8 | very important | 0 |\n| men   | 24-40 | no/little      | 17 | no/little      | 1 |\n| men   | 24-40 | important      | 15 | important      | 1 |\n| men   | 24-40 | very important | 12 | very important | 1 |\n| men   | &gt; 40  | no/little      |  8 | no/little      | 2 |\n| men   | &gt; 40  | important      | 15 | important      | 2 |\n| men   | &gt; 40  | very important | 18 | very important | 2 |\n\n",
            "text/html": [
              "<table>\n",
              "<caption>A spec_tbl_df: 18 × 6</caption>\n",
              "<thead>\n",
              "\t<tr><th scope=col>sex</th><th scope=col>age</th><th scope=col>response</th><th scope=col>frequency</th><th scope=col>resp</th><th scope=col>agelin</th></tr>\n",
              "\t<tr><th scope=col>&lt;chr&gt;</th><th scope=col>&lt;chr&gt;</th><th scope=col>&lt;chr&gt;</th><th scope=col>&lt;dbl&gt;</th><th scope=col>&lt;fct&gt;</th><th scope=col>&lt;dbl&gt;</th></tr>\n",
              "</thead>\n",
              "<tbody>\n",
              "\t<tr><td>women</td><td>18-23</td><td>no/little     </td><td>26</td><td>no/little     </td><td>0</td></tr>\n",
              "\t<tr><td>women</td><td>18-23</td><td>important     </td><td>12</td><td>important     </td><td>0</td></tr>\n",
              "\t<tr><td>women</td><td>18-23</td><td>very important</td><td> 7</td><td>very important</td><td>0</td></tr>\n",
              "\t<tr><td>women</td><td>24-40</td><td>no/little     </td><td> 9</td><td>no/little     </td><td>1</td></tr>\n",
              "\t<tr><td>women</td><td>24-40</td><td>important     </td><td>21</td><td>important     </td><td>1</td></tr>\n",
              "\t<tr><td>women</td><td>24-40</td><td>very important</td><td>15</td><td>very important</td><td>1</td></tr>\n",
              "\t<tr><td>women</td><td>&gt; 40 </td><td><span style=white-space:pre-wrap>no/little     </span></td><td> 5</td><td><span style=white-space:pre-wrap>no/little     </span></td><td>2</td></tr>\n",
              "\t<tr><td>women</td><td>&gt; 40 </td><td><span style=white-space:pre-wrap>important     </span></td><td>14</td><td><span style=white-space:pre-wrap>important     </span></td><td>2</td></tr>\n",
              "\t<tr><td>women</td><td>&gt; 40 </td><td>very important</td><td>41</td><td>very important</td><td>2</td></tr>\n",
              "\t<tr><td>men  </td><td>18-23</td><td>no/little     </td><td>40</td><td>no/little     </td><td>0</td></tr>\n",
              "\t<tr><td>men  </td><td>18-23</td><td>important     </td><td>17</td><td>important     </td><td>0</td></tr>\n",
              "\t<tr><td>men  </td><td>18-23</td><td>very important</td><td> 8</td><td>very important</td><td>0</td></tr>\n",
              "\t<tr><td>men  </td><td>24-40</td><td>no/little     </td><td>17</td><td>no/little     </td><td>1</td></tr>\n",
              "\t<tr><td>men  </td><td>24-40</td><td>important     </td><td>15</td><td>important     </td><td>1</td></tr>\n",
              "\t<tr><td>men  </td><td>24-40</td><td>very important</td><td>12</td><td>very important</td><td>1</td></tr>\n",
              "\t<tr><td><span style=white-space:pre-wrap>men  </span></td><td>&gt; 40 </td><td><span style=white-space:pre-wrap>no/little     </span></td><td> 8</td><td><span style=white-space:pre-wrap>no/little     </span></td><td>2</td></tr>\n",
              "\t<tr><td><span style=white-space:pre-wrap>men  </span></td><td>&gt; 40 </td><td><span style=white-space:pre-wrap>important     </span></td><td>15</td><td><span style=white-space:pre-wrap>important     </span></td><td>2</td></tr>\n",
              "\t<tr><td><span style=white-space:pre-wrap>men  </span></td><td>&gt; 40 </td><td>very important</td><td>18</td><td>very important</td><td>2</td></tr>\n",
              "</tbody>\n",
              "</table>\n"
            ]
          },
          "metadata": {
            "tags": []
          }
        }
      ]
    },
    {
      "cell_type": "code",
      "metadata": {
        "colab": {
          "base_uri": "https://localhost:8080/",
          "height": 364
        },
        "id": "cGEtUpChtZl6",
        "outputId": "1a2a2683-819c-42e7-df79-bac957adefc0"
      },
      "source": [
        "m3 <- multinom(resp~agelin+sex, weight=frequency, data=cars)\n",
        "summary(m3)"
      ],
      "execution_count": 16,
      "outputs": [
        {
          "output_type": "stream",
          "text": [
            "# weights:  12 (6 variable)\n",
            "initial  value 329.583687 \n",
            "iter  10 value 291.050616\n",
            "final  value 291.050160 \n",
            "converged\n"
          ],
          "name": "stdout"
        },
        {
          "output_type": "display_data",
          "data": {
            "text/plain": [
              "Call:\n",
              "multinom(formula = resp ~ agelin + sex, data = cars, weights = frequency)\n",
              "\n",
              "Coefficients:\n",
              "               (Intercept)    agelin  sexwomen\n",
              "important       -0.8908983 0.8303799 0.3889732\n",
              "very important  -1.9053456 1.5214463 0.8130386\n",
              "\n",
              "Std. Errors:\n",
              "               (Intercept)    agelin  sexwomen\n",
              "important        0.2402679 0.1946354 0.2991328\n",
              "very important   0.3089657 0.2114578 0.3211055\n",
              "\n",
              "Residual Deviance: 582.1003 \n",
              "AIC: 594.1003 "
            ]
          },
          "metadata": {
            "tags": []
          }
        }
      ]
    },
    {
      "cell_type": "code",
      "metadata": {
        "colab": {
          "base_uri": "https://localhost:8080/",
          "height": 95
        },
        "id": "zGCqYjgXta-e",
        "outputId": "5cedd06d-5499-443b-f525-7668770d05a2"
      },
      "source": [
        "plot_model(m3)"
      ],
      "execution_count": 17,
      "outputs": [
        {
          "output_type": "error",
          "ename": "ERROR",
          "evalue": "ignored",
          "traceback": [
            "Error in plot_model(m3): could not find function \"plot_model\"\nTraceback:\n"
          ]
        }
      ]
    },
    {
      "cell_type": "code",
      "metadata": {
        "colab": {
          "base_uri": "https://localhost:8080/",
          "height": 497
        },
        "id": "op2JFU8Jtd_F",
        "outputId": "93ebf45d-15b0-4dfe-e0a0-9032df1f75f9"
      },
      "source": [
        "# Fitted values (predicted probabilities):\n",
        "p3 <- ggpredict(m3, c(\"sex\", \"agelin\"))\n",
        "plot(p3)"
      ],
      "execution_count": 18,
      "outputs": [
        {
          "output_type": "display_data",
          "data": {
            "image/png": "[encoded data removed]",
            "text/plain": [
              "plot without title"
            ]
          },
          "metadata": {
            "tags": [],
            "image/png": {
              "width": 960,
              "height": 480
            }
          }
        }
      ]
    },
    {
      "cell_type": "code",
      "metadata": {
        "colab": {
          "base_uri": "https://localhost:8080/",
          "height": 364
        },
        "id": "8Ewb9wG1tfVg",
        "outputId": "d0b6433e-309e-478a-a220-3ea4a049ed26"
      },
      "source": [
        "m4 <- polr(resp ~ sex + age, data=cars, weight=frequency)\n",
        "summary(m4)"
      ],
      "execution_count": 19,
      "outputs": [
        {
          "output_type": "stream",
          "text": [
            "\n",
            "Re-fitting to get Hessian\n",
            "\n",
            "\n"
          ],
          "name": "stderr"
        },
        {
          "output_type": "display_data",
          "data": {
            "text/plain": [
              "Call:\n",
              "polr(formula = resp ~ sex + age, data = cars, weights = frequency)\n",
              "\n",
              "Coefficients:\n",
              "           Value Std. Error t value\n",
              "sexwomen  0.5762     0.2262   2.548\n",
              "age18-23 -2.2325     0.2915  -7.659\n",
              "age24-40 -1.0854     0.2799  -3.877\n",
              "\n",
              "Intercepts:\n",
              "                         Value   Std. Error t value\n",
              "no/little|important      -1.6127  0.2584    -6.2402\n",
              "important|very important -0.0013  0.2369    -0.0053\n",
              "\n",
              "Residual Deviance: 581.2956 \n",
              "AIC: 591.2956 "
            ]
          },
          "metadata": {
            "tags": []
          }
        }
      ]
    },
    {
      "cell_type": "code",
      "metadata": {
        "colab": {
          "base_uri": "https://localhost:8080/",
          "height": 347
        },
        "id": "XuEWihPptpsv",
        "outputId": "3205e9a0-0e1b-48e6-c1db-ad5338059d71"
      },
      "source": [
        "# Could also try a model with a linear term for age\n",
        "m5 <- polr(resp ~ sex + agelin, data=cars, weight=frequency)\n",
        "summary(m5)"
      ],
      "execution_count": 20,
      "outputs": [
        {
          "output_type": "stream",
          "text": [
            "\n",
            "Re-fitting to get Hessian\n",
            "\n",
            "\n"
          ],
          "name": "stderr"
        },
        {
          "output_type": "display_data",
          "data": {
            "text/plain": [
              "Call:\n",
              "polr(formula = resp ~ sex + agelin, data = cars, weights = frequency)\n",
              "\n",
              "Coefficients:\n",
              "         Value Std. Error t value\n",
              "sexwomen 0.577     0.2261   2.552\n",
              "agelin   1.116     0.1457   7.660\n",
              "\n",
              "Intercepts:\n",
              "                         Value  Std. Error t value\n",
              "no/little|important      0.6101 0.2034     2.9999 \n",
              "important|very important 2.2214 0.2430     9.1426 \n",
              "\n",
              "Residual Deviance: 581.3124 \n",
              "AIC: 589.3124 "
            ]
          },
          "metadata": {
            "tags": []
          }
        }
      ]
    },
    {
      "cell_type": "code",
      "metadata": {
        "colab": {
          "base_uri": "https://localhost:8080/",
          "height": 599
        },
        "id": "fzy4jr2rtr6b",
        "outputId": "b073f983-9a81-4b34-9ded-6dbda9afee4e"
      },
      "source": [
        "# Predicted probabilities:\n",
        "p5 <- ggpredict(m5)\n",
        "plot(p5)"
      ],
      "execution_count": 21,
      "outputs": [
        {
          "output_type": "stream",
          "text": [
            "\n",
            "Re-fitting to get Hessian\n",
            "\n",
            "\n"
          ],
          "name": "stderr"
        },
        {
          "output_type": "error",
          "ename": "ERROR",
          "evalue": "ignored",
          "traceback": [
            "Error in linv(stats::qlogis(fitfram$predicted) - stats::qnorm(ci) * se.fit): Argument eta must be a nonempty numeric vector\nTraceback:\n",
            "1. ggpredict(m5)",
            "2. lapply(predictors, function(.x) {\n .     tmp <- ggpredict_helper(model = model, terms = .x, ci.lvl = ci.lvl, \n .         type = type, typical = typical, ppd = ppd, condition = condition, \n .         back.transform = back.transform, vcov.fun = vcov.fun, \n .         vcov.type = vcov.type, vcov.args = vcov.args, interval = interval, \n .         ...)\n .     tmp$group <- .x\n .     tmp\n . })",
            "3. FUN(X[[i]], ...)",
            "4. ggpredict_helper(model = model, terms = .x, ci.lvl = ci.lvl, \n .     type = type, typical = typical, ppd = ppd, condition = condition, \n .     back.transform = back.transform, vcov.fun = vcov.fun, vcov.type = vcov.type, \n .     vcov.args = vcov.args, interval = interval, ...)",
            "5. select_prediction_method(model_class = model_class, model = model, \n .     data_grid = data_grid, ci.lvl = ci.lvl, type = type, model_info = model_info, \n .     ppd = ppd, terms = original_terms, value_adjustment = typical, \n .     vcov.fun = vcov.fun, vcov.type = vcov.type, vcov.args = vcov.args, \n .     condition = condition, interval = interval, ...)",
            "6. get_predictions_polr(model, data_grid, ci.lvl, linv, value_adjustment, \n .     terms, model_class, vcov.fun, vcov.type, vcov.args, condition, \n .     interval, ...)",
            "7. linv(stats::qlogis(fitfram$predicted) - stats::qnorm(ci) * se.fit)"
          ]
        }
      ]
    },
    {
      "cell_type": "code",
      "metadata": {
        "id": "fyZdimkFwCsu"
      },
      "source": [
        ""
      ],
      "execution_count": null,
      "outputs": []
    }
  ]
}