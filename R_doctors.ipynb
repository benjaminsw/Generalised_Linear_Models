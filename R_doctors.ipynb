{
  "nbformat": 4,
  "nbformat_minor": 0,
  "metadata": {
    "colab": {
      "name": "R - doctors",
      "provenance": [],
      "collapsed_sections": [],
      "authorship_tag": "ABX9TyOewG30tKi41ifTh+pFaolE",
      "include_colab_link": true
    },
    "kernelspec": {
      "name": "ir",
      "display_name": "R"
    }
  },
  "cells": [
    {
      "cell_type": "markdown",
      "metadata": {
        "id": "view-in-github",
        "colab_type": "text"
      },
      "source": [
        "<a href=\"https://colab.research.google.com/github/benjaminsw/Generalised_Linear_Models/blob/main/R_doctors.ipynb\" target=\"_parent\"><img src=\"https://colab.research.google.com/assets/colab-badge.svg\" alt=\"Open In Colab\"/></a>"
      ]
    },
    {
      "cell_type": "code",
      "metadata": {
        "id": "DGwuOpNygxOc",
        "colab": {
          "base_uri": "https://localhost:8080/"
        },
        "outputId": "38e97dc8-f66f-4670-a321-2470dc5d0999"
      },
      "source": [
        "if (!require('gsheet')) install.packages('gsheet'); library('gsheet')\n",
        "if (!require('xtable')) install.packages('xtable'); library('xtable')\n",
        "\n",
        "# set plot size\n",
        "options(repr.plot.width=16, repr.plot.height=8)"
      ],
      "execution_count": 24,
      "outputs": [
        {
          "output_type": "stream",
          "text": [
            "Loading required package: xtable\n",
            "\n",
            "Warning message in library(package, lib.loc = lib.loc, character.only = TRUE, logical.return = TRUE, :\n",
            "“there is no package called ‘xtable’”\n",
            "Installing package into ‘/usr/local/lib/R/site-library’\n",
            "(as ‘lib’ is unspecified)\n",
            "\n"
          ],
          "name": "stderr"
        }
      ]
    },
    {
      "cell_type": "code",
      "metadata": {
        "id": "Yi9qFXeimOFV",
        "colab": {
          "base_uri": "https://localhost:8080/",
          "height": 207
        },
        "outputId": "2c946ede-0810-4a47-81c4-ca1ab2a3d881"
      },
      "source": [
        "url <- 'https://docs.google.com/spreadsheets/d/1dcL4QlwJrpL3XGkmR-g3OtuDjL-QT-3Q_UwARWIyN8s/edit?usp=sharing'\n",
        "doctors  <- gsheet2tbl(url)\n",
        "\n",
        "head(doctors)"
      ],
      "execution_count": 7,
      "outputs": [
        {
          "output_type": "display_data",
          "data": {
            "text/plain": [
              "  age      smoking    deaths person-years\n",
              "1 35 to 44 smoker      32    52407       \n",
              "2 45 to 54 smoker     104    43248       \n",
              "3 55 to 64 smoker     206    28612       \n",
              "4 65 to 74 smoker     186    12663       \n",
              "5 75 to 84 smoker     102     5317       \n",
              "6 35 to 44 non-smoker   2    18790       "
            ],
            "text/latex": "A tibble: 6 × 4\n\\begin{tabular}{llll}\n age & smoking & deaths & person-years\\\\\n <chr> & <chr> & <dbl> & <dbl>\\\\\n\\hline\n\t 35 to 44 & smoker     &  32 & 52407\\\\\n\t 45 to 54 & smoker     & 104 & 43248\\\\\n\t 55 to 64 & smoker     & 206 & 28612\\\\\n\t 65 to 74 & smoker     & 186 & 12663\\\\\n\t 75 to 84 & smoker     & 102 &  5317\\\\\n\t 35 to 44 & non-smoker &   2 & 18790\\\\\n\\end{tabular}\n",
            "text/markdown": "\nA tibble: 6 × 4\n\n| age &lt;chr&gt; | smoking &lt;chr&gt; | deaths &lt;dbl&gt; | person-years &lt;dbl&gt; |\n|---|---|---|---|\n| 35 to 44 | smoker     |  32 | 52407 |\n| 45 to 54 | smoker     | 104 | 43248 |\n| 55 to 64 | smoker     | 206 | 28612 |\n| 65 to 74 | smoker     | 186 | 12663 |\n| 75 to 84 | smoker     | 102 |  5317 |\n| 35 to 44 | non-smoker |   2 | 18790 |\n\n",
            "text/html": [
              "<table>\n",
              "<caption>A tibble: 6 × 4</caption>\n",
              "<thead>\n",
              "\t<tr><th scope=col>age</th><th scope=col>smoking</th><th scope=col>deaths</th><th scope=col>person-years</th></tr>\n",
              "\t<tr><th scope=col>&lt;chr&gt;</th><th scope=col>&lt;chr&gt;</th><th scope=col>&lt;dbl&gt;</th><th scope=col>&lt;dbl&gt;</th></tr>\n",
              "</thead>\n",
              "<tbody>\n",
              "\t<tr><td>35 to 44</td><td>smoker    </td><td> 32</td><td>52407</td></tr>\n",
              "\t<tr><td>45 to 54</td><td>smoker    </td><td>104</td><td>43248</td></tr>\n",
              "\t<tr><td>55 to 64</td><td>smoker    </td><td>206</td><td>28612</td></tr>\n",
              "\t<tr><td>65 to 74</td><td>smoker    </td><td>186</td><td>12663</td></tr>\n",
              "\t<tr><td>75 to 84</td><td>smoker    </td><td>102</td><td> 5317</td></tr>\n",
              "\t<tr><td>35 to 44</td><td>non-smoker</td><td>  2</td><td>18790</td></tr>\n",
              "</tbody>\n",
              "</table>\n"
            ]
          },
          "metadata": {
            "tags": []
          }
        }
      ]
    },
    {
      "cell_type": "code",
      "metadata": {
        "colab": {
          "base_uri": "https://localhost:8080/",
          "height": 207
        },
        "id": "S1m7_Sj7f6au",
        "outputId": "0f3b9f88-fd40-4412-fc35-1f8d0bdd4326"
      },
      "source": [
        "# fix  column names\n",
        "names(doctors) <- gsub(x = names(doctors), pattern = \"\\\\-\", replacement = \".\")  \n",
        "head(doctors)"
      ],
      "execution_count": 9,
      "outputs": [
        {
          "output_type": "display_data",
          "data": {
            "text/plain": [
              "  age      smoking    deaths person.years\n",
              "1 35 to 44 smoker      32    52407       \n",
              "2 45 to 54 smoker     104    43248       \n",
              "3 55 to 64 smoker     206    28612       \n",
              "4 65 to 74 smoker     186    12663       \n",
              "5 75 to 84 smoker     102     5317       \n",
              "6 35 to 44 non-smoker   2    18790       "
            ],
            "text/latex": "A tibble: 6 × 4\n\\begin{tabular}{llll}\n age & smoking & deaths & person.years\\\\\n <chr> & <chr> & <dbl> & <dbl>\\\\\n\\hline\n\t 35 to 44 & smoker     &  32 & 52407\\\\\n\t 45 to 54 & smoker     & 104 & 43248\\\\\n\t 55 to 64 & smoker     & 206 & 28612\\\\\n\t 65 to 74 & smoker     & 186 & 12663\\\\\n\t 75 to 84 & smoker     & 102 &  5317\\\\\n\t 35 to 44 & non-smoker &   2 & 18790\\\\\n\\end{tabular}\n",
            "text/markdown": "\nA tibble: 6 × 4\n\n| age &lt;chr&gt; | smoking &lt;chr&gt; | deaths &lt;dbl&gt; | person.years &lt;dbl&gt; |\n|---|---|---|---|\n| 35 to 44 | smoker     |  32 | 52407 |\n| 45 to 54 | smoker     | 104 | 43248 |\n| 55 to 64 | smoker     | 206 | 28612 |\n| 65 to 74 | smoker     | 186 | 12663 |\n| 75 to 84 | smoker     | 102 |  5317 |\n| 35 to 44 | non-smoker |   2 | 18790 |\n\n",
            "text/html": [
              "<table>\n",
              "<caption>A tibble: 6 × 4</caption>\n",
              "<thead>\n",
              "\t<tr><th scope=col>age</th><th scope=col>smoking</th><th scope=col>deaths</th><th scope=col>person.years</th></tr>\n",
              "\t<tr><th scope=col>&lt;chr&gt;</th><th scope=col>&lt;chr&gt;</th><th scope=col>&lt;dbl&gt;</th><th scope=col>&lt;dbl&gt;</th></tr>\n",
              "</thead>\n",
              "<tbody>\n",
              "\t<tr><td>35 to 44</td><td>smoker    </td><td> 32</td><td>52407</td></tr>\n",
              "\t<tr><td>45 to 54</td><td>smoker    </td><td>104</td><td>43248</td></tr>\n",
              "\t<tr><td>55 to 64</td><td>smoker    </td><td>206</td><td>28612</td></tr>\n",
              "\t<tr><td>65 to 74</td><td>smoker    </td><td>186</td><td>12663</td></tr>\n",
              "\t<tr><td>75 to 84</td><td>smoker    </td><td>102</td><td> 5317</td></tr>\n",
              "\t<tr><td>35 to 44</td><td>non-smoker</td><td>  2</td><td>18790</td></tr>\n",
              "</tbody>\n",
              "</table>\n"
            ]
          },
          "metadata": {
            "tags": []
          }
        }
      ]
    },
    {
      "cell_type": "code",
      "metadata": {
        "id": "dRfMaYDHfI4r"
      },
      "source": [
        "par (mar=c(3,3,2,1), mgp=c(2,.7,0), tck=-.01)"
      ],
      "execution_count": 10,
      "outputs": []
    },
    {
      "cell_type": "code",
      "metadata": {
        "id": "wnB9OS8nfLce"
      },
      "source": [
        "# Death rate per 100,000 person-years:\n",
        "doctors$rates <- doctors$deaths/doctors$person.years*100000"
      ],
      "execution_count": 11,
      "outputs": []
    },
    {
      "cell_type": "code",
      "metadata": {
        "colab": {
          "base_uri": "https://localhost:8080/",
          "height": 497
        },
        "id": "edMqm7KLfOM4",
        "outputId": "cb728ca7-cc94-4b95-c994-a0b7abf484c4"
      },
      "source": [
        "# Plotted death rates by smoking status:\n",
        "# png(\"deathrates.png\", width = 7, height = 5.5, units=\"in\", res=1024)\n",
        "\n",
        "plot(doctors$rates[doctors$smoking==\"smoker\"], pch=17, xlab=\"Age\", xaxt=\"n\", ylab=\"Deaths per 100,000 person-years\", ylim=c(0,2200))\n",
        "points(doctors$rates[doctors$smoking==\"non-smoker\"], pch=19)\n",
        "\n",
        "axis(side=1, at=1:5,labels=doctors$age[doctors$smoking==\"smoker\"])\n",
        "\n",
        "legend(\"topleft\", legend=c(\"smokers\", \"non-smokers\"), pch=c(17,19))\n",
        "\n",
        "# dev.off()"
      ],
      "execution_count": 16,
      "outputs": [
        {
          "output_type": "display_data",
          "data": {
            "image/png": "[encoded data removed]",
            "text/plain": [
              "plot without title"
            ]
          },
          "metadata": {
            "tags": [],
            "image/png": {
              "width": 960,
              "height": 480
            }
          }
        }
      ]
    },
    {
      "cell_type": "code",
      "metadata": {
        "colab": {
          "base_uri": "https://localhost:8080/",
          "height": 293
        },
        "id": "tckJrPHKfQN6",
        "outputId": "1c23a787-7f50-4513-f9a2-e5193349354e"
      },
      "source": [
        "# Define an ordinal age variable and its square:\n",
        "\n",
        "doctors$agecat<-1\n",
        "doctors$agecat[doctors$age==\"45 to 54\"] <-2\n",
        "doctors$agecat[doctors$age==\"55 to 64\"] <-3\n",
        "doctors$agecat[doctors$age==\"65 to 74\"] <-4\n",
        "doctors$agecat[doctors$age==\"75 to 84\"] <-5\n",
        "\n",
        "doctors$agesq <- doctors$agecat^2\n",
        "\n",
        "doctors"
      ],
      "execution_count": 14,
      "outputs": [
        {
          "output_type": "display_data",
          "data": {
            "text/plain": [
              "   age      smoking    deaths person.years rates      agecat agesq\n",
              "1  35 to 44 smoker      32    52407          61.06055 1       1   \n",
              "2  45 to 54 smoker     104    43248         240.47355 2       4   \n",
              "3  55 to 64 smoker     206    28612         719.97763 3       9   \n",
              "4  65 to 74 smoker     186    12663        1468.84624 4      16   \n",
              "5  75 to 84 smoker     102     5317        1918.37502 5      25   \n",
              "6  35 to 44 non-smoker   2    18790          10.64396 1       1   \n",
              "7  45 to 54 non-smoker  12    10673         112.43324 2       4   \n",
              "8  55 to 64 non-smoker  28     5710         490.36778 3       9   \n",
              "9  65 to 74 non-smoker  28     2585        1083.17215 4      16   \n",
              "10 75 to 84 non-smoker  31     1462        2120.38304 5      25   "
            ],
            "text/latex": "A spec\\_tbl\\_df: 10 × 7\n\\begin{tabular}{lllllll}\n age & smoking & deaths & person.years & rates & agecat & agesq\\\\\n <chr> & <chr> & <dbl> & <dbl> & <dbl> & <dbl> & <dbl>\\\\\n\\hline\n\t 35 to 44 & smoker     &  32 & 52407 &   61.06055 & 1 &  1\\\\\n\t 45 to 54 & smoker     & 104 & 43248 &  240.47355 & 2 &  4\\\\\n\t 55 to 64 & smoker     & 206 & 28612 &  719.97763 & 3 &  9\\\\\n\t 65 to 74 & smoker     & 186 & 12663 & 1468.84624 & 4 & 16\\\\\n\t 75 to 84 & smoker     & 102 &  5317 & 1918.37502 & 5 & 25\\\\\n\t 35 to 44 & non-smoker &   2 & 18790 &   10.64396 & 1 &  1\\\\\n\t 45 to 54 & non-smoker &  12 & 10673 &  112.43324 & 2 &  4\\\\\n\t 55 to 64 & non-smoker &  28 &  5710 &  490.36778 & 3 &  9\\\\\n\t 65 to 74 & non-smoker &  28 &  2585 & 1083.17215 & 4 & 16\\\\\n\t 75 to 84 & non-smoker &  31 &  1462 & 2120.38304 & 5 & 25\\\\\n\\end{tabular}\n",
            "text/markdown": "\nA spec_tbl_df: 10 × 7\n\n| age &lt;chr&gt; | smoking &lt;chr&gt; | deaths &lt;dbl&gt; | person.years &lt;dbl&gt; | rates &lt;dbl&gt; | agecat &lt;dbl&gt; | agesq &lt;dbl&gt; |\n|---|---|---|---|---|---|---|\n| 35 to 44 | smoker     |  32 | 52407 |   61.06055 | 1 |  1 |\n| 45 to 54 | smoker     | 104 | 43248 |  240.47355 | 2 |  4 |\n| 55 to 64 | smoker     | 206 | 28612 |  719.97763 | 3 |  9 |\n| 65 to 74 | smoker     | 186 | 12663 | 1468.84624 | 4 | 16 |\n| 75 to 84 | smoker     | 102 |  5317 | 1918.37502 | 5 | 25 |\n| 35 to 44 | non-smoker |   2 | 18790 |   10.64396 | 1 |  1 |\n| 45 to 54 | non-smoker |  12 | 10673 |  112.43324 | 2 |  4 |\n| 55 to 64 | non-smoker |  28 |  5710 |  490.36778 | 3 |  9 |\n| 65 to 74 | non-smoker |  28 |  2585 | 1083.17215 | 4 | 16 |\n| 75 to 84 | non-smoker |  31 |  1462 | 2120.38304 | 5 | 25 |\n\n",
            "text/html": [
              "<table>\n",
              "<caption>A spec_tbl_df: 10 × 7</caption>\n",
              "<thead>\n",
              "\t<tr><th scope=col>age</th><th scope=col>smoking</th><th scope=col>deaths</th><th scope=col>person.years</th><th scope=col>rates</th><th scope=col>agecat</th><th scope=col>agesq</th></tr>\n",
              "\t<tr><th scope=col>&lt;chr&gt;</th><th scope=col>&lt;chr&gt;</th><th scope=col>&lt;dbl&gt;</th><th scope=col>&lt;dbl&gt;</th><th scope=col>&lt;dbl&gt;</th><th scope=col>&lt;dbl&gt;</th><th scope=col>&lt;dbl&gt;</th></tr>\n",
              "</thead>\n",
              "<tbody>\n",
              "\t<tr><td>35 to 44</td><td>smoker    </td><td> 32</td><td>52407</td><td>  61.06055</td><td>1</td><td> 1</td></tr>\n",
              "\t<tr><td>45 to 54</td><td>smoker    </td><td>104</td><td>43248</td><td> 240.47355</td><td>2</td><td> 4</td></tr>\n",
              "\t<tr><td>55 to 64</td><td>smoker    </td><td>206</td><td>28612</td><td> 719.97763</td><td>3</td><td> 9</td></tr>\n",
              "\t<tr><td>65 to 74</td><td>smoker    </td><td>186</td><td>12663</td><td>1468.84624</td><td>4</td><td>16</td></tr>\n",
              "\t<tr><td>75 to 84</td><td>smoker    </td><td>102</td><td> 5317</td><td>1918.37502</td><td>5</td><td>25</td></tr>\n",
              "\t<tr><td>35 to 44</td><td>non-smoker</td><td>  2</td><td>18790</td><td>  10.64396</td><td>1</td><td> 1</td></tr>\n",
              "\t<tr><td>45 to 54</td><td>non-smoker</td><td> 12</td><td>10673</td><td> 112.43324</td><td>2</td><td> 4</td></tr>\n",
              "\t<tr><td>55 to 64</td><td>non-smoker</td><td> 28</td><td> 5710</td><td> 490.36778</td><td>3</td><td> 9</td></tr>\n",
              "\t<tr><td>65 to 74</td><td>non-smoker</td><td> 28</td><td> 2585</td><td>1083.17215</td><td>4</td><td>16</td></tr>\n",
              "\t<tr><td>75 to 84</td><td>non-smoker</td><td> 31</td><td> 1462</td><td>2120.38304</td><td>5</td><td>25</td></tr>\n",
              "</tbody>\n",
              "</table>\n"
            ]
          },
          "metadata": {
            "tags": []
          }
        }
      ]
    },
    {
      "cell_type": "code",
      "metadata": {
        "colab": {
          "base_uri": "https://localhost:8080/",
          "height": 293
        },
        "id": "x1gYenX9gwT8",
        "outputId": "bb528ec0-c153-43ea-ece6-73591cfcd0a1"
      },
      "source": [
        "# Define smkage variable equal to agecat for smokers and zero for non-smokers (this is the same as including the iteraction term agecat:smoking in the model):\n",
        "\n",
        "doctors$smkage <- 0\n",
        "doctors$smkage[doctors$smoking==\"smoker\"] <- doctors$agecat[doctors$smoking==\"smoker\"]\n",
        "\n",
        "doctors"
      ],
      "execution_count": 17,
      "outputs": [
        {
          "output_type": "display_data",
          "data": {
            "text/plain": [
              "   age      smoking    deaths person.years rates      agecat agesq smkage\n",
              "1  35 to 44 smoker      32    52407          61.06055 1       1    1     \n",
              "2  45 to 54 smoker     104    43248         240.47355 2       4    2     \n",
              "3  55 to 64 smoker     206    28612         719.97763 3       9    3     \n",
              "4  65 to 74 smoker     186    12663        1468.84624 4      16    4     \n",
              "5  75 to 84 smoker     102     5317        1918.37502 5      25    5     \n",
              "6  35 to 44 non-smoker   2    18790          10.64396 1       1    0     \n",
              "7  45 to 54 non-smoker  12    10673         112.43324 2       4    0     \n",
              "8  55 to 64 non-smoker  28     5710         490.36778 3       9    0     \n",
              "9  65 to 74 non-smoker  28     2585        1083.17215 4      16    0     \n",
              "10 75 to 84 non-smoker  31     1462        2120.38304 5      25    0     "
            ],
            "text/latex": "A spec\\_tbl\\_df: 10 × 8\n\\begin{tabular}{llllllll}\n age & smoking & deaths & person.years & rates & agecat & agesq & smkage\\\\\n <chr> & <chr> & <dbl> & <dbl> & <dbl> & <dbl> & <dbl> & <dbl>\\\\\n\\hline\n\t 35 to 44 & smoker     &  32 & 52407 &   61.06055 & 1 &  1 & 1\\\\\n\t 45 to 54 & smoker     & 104 & 43248 &  240.47355 & 2 &  4 & 2\\\\\n\t 55 to 64 & smoker     & 206 & 28612 &  719.97763 & 3 &  9 & 3\\\\\n\t 65 to 74 & smoker     & 186 & 12663 & 1468.84624 & 4 & 16 & 4\\\\\n\t 75 to 84 & smoker     & 102 &  5317 & 1918.37502 & 5 & 25 & 5\\\\\n\t 35 to 44 & non-smoker &   2 & 18790 &   10.64396 & 1 &  1 & 0\\\\\n\t 45 to 54 & non-smoker &  12 & 10673 &  112.43324 & 2 &  4 & 0\\\\\n\t 55 to 64 & non-smoker &  28 &  5710 &  490.36778 & 3 &  9 & 0\\\\\n\t 65 to 74 & non-smoker &  28 &  2585 & 1083.17215 & 4 & 16 & 0\\\\\n\t 75 to 84 & non-smoker &  31 &  1462 & 2120.38304 & 5 & 25 & 0\\\\\n\\end{tabular}\n",
            "text/markdown": "\nA spec_tbl_df: 10 × 8\n\n| age &lt;chr&gt; | smoking &lt;chr&gt; | deaths &lt;dbl&gt; | person.years &lt;dbl&gt; | rates &lt;dbl&gt; | agecat &lt;dbl&gt; | agesq &lt;dbl&gt; | smkage &lt;dbl&gt; |\n|---|---|---|---|---|---|---|---|\n| 35 to 44 | smoker     |  32 | 52407 |   61.06055 | 1 |  1 | 1 |\n| 45 to 54 | smoker     | 104 | 43248 |  240.47355 | 2 |  4 | 2 |\n| 55 to 64 | smoker     | 206 | 28612 |  719.97763 | 3 |  9 | 3 |\n| 65 to 74 | smoker     | 186 | 12663 | 1468.84624 | 4 | 16 | 4 |\n| 75 to 84 | smoker     | 102 |  5317 | 1918.37502 | 5 | 25 | 5 |\n| 35 to 44 | non-smoker |   2 | 18790 |   10.64396 | 1 |  1 | 0 |\n| 45 to 54 | non-smoker |  12 | 10673 |  112.43324 | 2 |  4 | 0 |\n| 55 to 64 | non-smoker |  28 |  5710 |  490.36778 | 3 |  9 | 0 |\n| 65 to 74 | non-smoker |  28 |  2585 | 1083.17215 | 4 | 16 | 0 |\n| 75 to 84 | non-smoker |  31 |  1462 | 2120.38304 | 5 | 25 | 0 |\n\n",
            "text/html": [
              "<table>\n",
              "<caption>A spec_tbl_df: 10 × 8</caption>\n",
              "<thead>\n",
              "\t<tr><th scope=col>age</th><th scope=col>smoking</th><th scope=col>deaths</th><th scope=col>person.years</th><th scope=col>rates</th><th scope=col>agecat</th><th scope=col>agesq</th><th scope=col>smkage</th></tr>\n",
              "\t<tr><th scope=col>&lt;chr&gt;</th><th scope=col>&lt;chr&gt;</th><th scope=col>&lt;dbl&gt;</th><th scope=col>&lt;dbl&gt;</th><th scope=col>&lt;dbl&gt;</th><th scope=col>&lt;dbl&gt;</th><th scope=col>&lt;dbl&gt;</th><th scope=col>&lt;dbl&gt;</th></tr>\n",
              "</thead>\n",
              "<tbody>\n",
              "\t<tr><td>35 to 44</td><td>smoker    </td><td> 32</td><td>52407</td><td>  61.06055</td><td>1</td><td> 1</td><td>1</td></tr>\n",
              "\t<tr><td>45 to 54</td><td>smoker    </td><td>104</td><td>43248</td><td> 240.47355</td><td>2</td><td> 4</td><td>2</td></tr>\n",
              "\t<tr><td>55 to 64</td><td>smoker    </td><td>206</td><td>28612</td><td> 719.97763</td><td>3</td><td> 9</td><td>3</td></tr>\n",
              "\t<tr><td>65 to 74</td><td>smoker    </td><td>186</td><td>12663</td><td>1468.84624</td><td>4</td><td>16</td><td>4</td></tr>\n",
              "\t<tr><td>75 to 84</td><td>smoker    </td><td>102</td><td> 5317</td><td>1918.37502</td><td>5</td><td>25</td><td>5</td></tr>\n",
              "\t<tr><td>35 to 44</td><td>non-smoker</td><td>  2</td><td>18790</td><td>  10.64396</td><td>1</td><td> 1</td><td>0</td></tr>\n",
              "\t<tr><td>45 to 54</td><td>non-smoker</td><td> 12</td><td>10673</td><td> 112.43324</td><td>2</td><td> 4</td><td>0</td></tr>\n",
              "\t<tr><td>55 to 64</td><td>non-smoker</td><td> 28</td><td> 5710</td><td> 490.36778</td><td>3</td><td> 9</td><td>0</td></tr>\n",
              "\t<tr><td>65 to 74</td><td>non-smoker</td><td> 28</td><td> 2585</td><td>1083.17215</td><td>4</td><td>16</td><td>0</td></tr>\n",
              "\t<tr><td>75 to 84</td><td>non-smoker</td><td> 31</td><td> 1462</td><td>2120.38304</td><td>5</td><td>25</td><td>0</td></tr>\n",
              "</tbody>\n",
              "</table>\n"
            ]
          },
          "metadata": {
            "tags": []
          }
        }
      ]
    },
    {
      "cell_type": "code",
      "metadata": {
        "colab": {
          "base_uri": "https://localhost:8080/",
          "height": 503
        },
        "id": "mfDE7FeWg-NN",
        "outputId": "c90a1868-6a27-4d43-98f1-b68a88355126"
      },
      "source": [
        "# Fit a Poisson regression model:\n",
        "\n",
        "m1 <- glm(deaths~ agecat+agesq+ smoking+smkage+offset(log(person.years)), family=poisson, data=doctors)\n",
        "\n",
        "summary(m1)"
      ],
      "execution_count": 18,
      "outputs": [
        {
          "output_type": "display_data",
          "data": {
            "text/plain": [
              "\n",
              "Call:\n",
              "glm(formula = deaths ~ agecat + agesq + smoking + smkage + offset(log(person.years)), \n",
              "    family = poisson, data = doctors)\n",
              "\n",
              "Deviance Residuals: \n",
              "       1         2         3         4         5         6         7         8  \n",
              " 0.43820  -0.27329  -0.15265   0.23393  -0.05700  -0.83049   0.13404   0.64107  \n",
              "       9        10  \n",
              "-0.41058  -0.01275  \n",
              "\n",
              "Coefficients:\n",
              "               Estimate Std. Error z value Pr(>|z|)    \n",
              "(Intercept)   -10.79176    0.45008 -23.978  < 2e-16 ***\n",
              "agecat          2.37648    0.20795  11.428  < 2e-16 ***\n",
              "agesq          -0.19768    0.02737  -7.223 5.08e-13 ***\n",
              "smokingsmoker   1.44097    0.37220   3.872 0.000108 ***\n",
              "smkage         -0.30755    0.09704  -3.169 0.001528 ** \n",
              "---\n",
              "Signif. codes:  0 ‘***’ 0.001 ‘**’ 0.01 ‘*’ 0.05 ‘.’ 0.1 ‘ ’ 1\n",
              "\n",
              "(Dispersion parameter for poisson family taken to be 1)\n",
              "\n",
              "    Null deviance: 935.0673  on 9  degrees of freedom\n",
              "Residual deviance:   1.6354  on 5  degrees of freedom\n",
              "AIC: 66.703\n",
              "\n",
              "Number of Fisher Scoring iterations: 4\n"
            ]
          },
          "metadata": {
            "tags": []
          }
        }
      ]
    },
    {
      "cell_type": "code",
      "metadata": {
        "colab": {
          "base_uri": "https://localhost:8080/",
          "height": 503
        },
        "id": "uDy5Bd33hBHP",
        "outputId": "7ad5dbb9-93ac-4ea6-cfff-843874dff9e6"
      },
      "source": [
        "summary(glm(deaths~ agecat+agesq+ smoking +agecat:smoking+offset(log(person.years)), family=poisson, data=doctors) )"
      ],
      "execution_count": 19,
      "outputs": [
        {
          "output_type": "display_data",
          "data": {
            "text/plain": [
              "\n",
              "Call:\n",
              "glm(formula = deaths ~ agecat + agesq + smoking + agecat:smoking + \n",
              "    offset(log(person.years)), family = poisson, data = doctors)\n",
              "\n",
              "Deviance Residuals: \n",
              "       1         2         3         4         5         6         7         8  \n",
              " 0.43820  -0.27329  -0.15265   0.23393  -0.05700  -0.83049   0.13404   0.64107  \n",
              "       9        10  \n",
              "-0.41058  -0.01275  \n",
              "\n",
              "Coefficients:\n",
              "                      Estimate Std. Error z value Pr(>|z|)    \n",
              "(Intercept)          -10.79176    0.45008 -23.978  < 2e-16 ***\n",
              "agecat                 2.37648    0.20795  11.428  < 2e-16 ***\n",
              "agesq                 -0.19768    0.02737  -7.223 5.08e-13 ***\n",
              "smokingsmoker          1.44097    0.37220   3.872 0.000108 ***\n",
              "agecat:smokingsmoker  -0.30755    0.09704  -3.169 0.001528 ** \n",
              "---\n",
              "Signif. codes:  0 ‘***’ 0.001 ‘**’ 0.01 ‘*’ 0.05 ‘.’ 0.1 ‘ ’ 1\n",
              "\n",
              "(Dispersion parameter for poisson family taken to be 1)\n",
              "\n",
              "    Null deviance: 935.0673  on 9  degrees of freedom\n",
              "Residual deviance:   1.6354  on 5  degrees of freedom\n",
              "AIC: 66.703\n",
              "\n",
              "Number of Fisher Scoring iterations: 4\n"
            ]
          },
          "metadata": {
            "tags": []
          }
        }
      ]
    },
    {
      "cell_type": "code",
      "metadata": {
        "colab": {
          "base_uri": "https://localhost:8080/",
          "height": 52
        },
        "id": "wAZMHiQNhEv4",
        "outputId": "94db0f5b-78bd-41be-fac9-0be3354a5b78"
      },
      "source": [
        "# Fitted probabilities\n",
        "fitted(m1)\n"
      ],
      "execution_count": 20,
      "outputs": [
        {
          "output_type": "display_data",
          "data": {
            "text/plain": [
              "         1          2          3          4          5          6          7 \n",
              " 29.584734 106.811960 208.198646 182.827893 102.576767   3.414801  11.541629 \n",
              "         8          9         10 \n",
              " 24.743377  30.229155  31.071038 "
            ],
            "text/latex": "\\begin{description*}\n\\item[1] 29.5847337690336\n\\item[2] 106.811960129543\n\\item[3] 208.198645726059\n\\item[4] 182.827893083114\n\\item[5] 102.576767292248\n\\item[6] 3.41480136640532\n\\item[7] 11.5416288162012\n\\item[8] 24.7433766240709\n\\item[9] 30.2291548376328\n\\item[10] 31.0710383556894\n\\end{description*}\n",
            "text/markdown": "1\n:   29.58473376903362\n:   106.8119601295433\n:   208.1986457260594\n:   182.8278930831145\n:   102.5767672922486\n:   3.414801366405327\n:   11.54162881620128\n:   24.74337662407099\n:   30.229154837632810\n:   31.0710383556894\n\n",
            "text/html": [
              "<style>\n",
              ".dl-inline {width: auto; margin:0; padding: 0}\n",
              ".dl-inline>dt, .dl-inline>dd {float: none; width: auto; display: inline-block}\n",
              ".dl-inline>dt::after {content: \":\\0020\"; padding-right: .5ex}\n",
              ".dl-inline>dt:not(:first-of-type) {padding-left: .5ex}\n",
              "</style><dl class=dl-inline><dt>1</dt><dd>29.5847337690336</dd><dt>2</dt><dd>106.811960129543</dd><dt>3</dt><dd>208.198645726059</dd><dt>4</dt><dd>182.827893083114</dd><dt>5</dt><dd>102.576767292248</dd><dt>6</dt><dd>3.41480136640532</dd><dt>7</dt><dd>11.5416288162012</dd><dt>8</dt><dd>24.7433766240709</dd><dt>9</dt><dd>30.2291548376328</dd><dt>10</dt><dd>31.0710383556894</dd></dl>\n"
            ]
          },
          "metadata": {
            "tags": []
          }
        }
      ]
    },
    {
      "cell_type": "code",
      "metadata": {
        "colab": {
          "base_uri": "https://localhost:8080/",
          "height": 52
        },
        "id": "O0iXfyewhIYX",
        "outputId": "f6d83914-8455-4c9f-ae20-f4e6b1d23fc1"
      },
      "source": [
        "pearsonres <- (doctors$deaths-fitted(m1))/sqrt(fitted(m1))\n",
        "pearsonres"
      ],
      "execution_count": 21,
      "outputs": [
        {
          "output_type": "display_data",
          "data": {
            "text/plain": [
              "          1           2           3           4           5           6 \n",
              " 0.44404929 -0.27208163 -0.15237591  0.23459923 -0.05694769 -0.76561908 \n",
              "          7           8           9          10 \n",
              " 0.13492231  0.65469354 -0.40544060 -0.01274427 "
            ],
            "text/latex": "\\begin{description*}\n\\item[1] 0.444049286524401\n\\item[2] -0.272081627098827\n\\item[3] -0.152375907730022\n\\item[4] 0.23459923397237\n\\item[5] -0.0569476910210781\n\\item[6] -0.765619078865742\n\\item[7] 0.134922306136768\n\\item[8] 0.654693536079351\n\\item[9] -0.405440597446565\n\\item[10] -0.0127442715543423\n\\end{description*}\n",
            "text/markdown": "1\n:   0.4440492865244012\n:   -0.2720816270988273\n:   -0.1523759077300224\n:   0.234599233972375\n:   -0.05694769102107816\n:   -0.7656190788657427\n:   0.1349223061367688\n:   0.6546935360793519\n:   -0.40544059744656510\n:   -0.0127442715543423\n\n",
            "text/html": [
              "<style>\n",
              ".dl-inline {width: auto; margin:0; padding: 0}\n",
              ".dl-inline>dt, .dl-inline>dd {float: none; width: auto; display: inline-block}\n",
              ".dl-inline>dt::after {content: \":\\0020\"; padding-right: .5ex}\n",
              ".dl-inline>dt:not(:first-of-type) {padding-left: .5ex}\n",
              "</style><dl class=dl-inline><dt>1</dt><dd>0.444049286524401</dd><dt>2</dt><dd>-0.272081627098827</dd><dt>3</dt><dd>-0.152375907730022</dd><dt>4</dt><dd>0.23459923397237</dd><dt>5</dt><dd>-0.0569476910210781</dd><dt>6</dt><dd>-0.765619078865742</dd><dt>7</dt><dd>0.134922306136768</dd><dt>8</dt><dd>0.654693536079351</dd><dt>9</dt><dd>-0.405440597446565</dd><dt>10</dt><dd>-0.0127442715543423</dd></dl>\n"
            ]
          },
          "metadata": {
            "tags": []
          }
        }
      ]
    },
    {
      "cell_type": "code",
      "metadata": {
        "colab": {
          "base_uri": "https://localhost:8080/",
          "height": 52
        },
        "id": "FDfb4abnhLQC",
        "outputId": "3ebcb720-8e4d-4bcf-b890-b53d35b836b5"
      },
      "source": [
        "# You can also get these directly:\n",
        "\n",
        "pres <- resid(m1, type=\"pearson\")\n",
        "pres"
      ],
      "execution_count": 22,
      "outputs": [
        {
          "output_type": "display_data",
          "data": {
            "text/plain": [
              "          1           2           3           4           5           6 \n",
              " 0.44404929 -0.27208163 -0.15237591  0.23459923 -0.05694769 -0.76561908 \n",
              "          7           8           9          10 \n",
              " 0.13492231  0.65469354 -0.40544060 -0.01274427 "
            ],
            "text/latex": "\\begin{description*}\n\\item[1] 0.444049286524401\n\\item[2] -0.272081627098827\n\\item[3] -0.152375907730022\n\\item[4] 0.23459923397237\n\\item[5] -0.0569476910210781\n\\item[6] -0.765619078865742\n\\item[7] 0.134922306136768\n\\item[8] 0.654693536079351\n\\item[9] -0.405440597446565\n\\item[10] -0.0127442715543423\n\\end{description*}\n",
            "text/markdown": "1\n:   0.4440492865244012\n:   -0.2720816270988273\n:   -0.1523759077300224\n:   0.234599233972375\n:   -0.05694769102107816\n:   -0.7656190788657427\n:   0.1349223061367688\n:   0.6546935360793519\n:   -0.40544059744656510\n:   -0.0127442715543423\n\n",
            "text/html": [
              "<style>\n",
              ".dl-inline {width: auto; margin:0; padding: 0}\n",
              ".dl-inline>dt, .dl-inline>dd {float: none; width: auto; display: inline-block}\n",
              ".dl-inline>dt::after {content: \":\\0020\"; padding-right: .5ex}\n",
              ".dl-inline>dt:not(:first-of-type) {padding-left: .5ex}\n",
              "</style><dl class=dl-inline><dt>1</dt><dd>0.444049286524401</dd><dt>2</dt><dd>-0.272081627098827</dd><dt>3</dt><dd>-0.152375907730022</dd><dt>4</dt><dd>0.23459923397237</dd><dt>5</dt><dd>-0.0569476910210781</dd><dt>6</dt><dd>-0.765619078865742</dd><dt>7</dt><dd>0.134922306136768</dd><dt>8</dt><dd>0.654693536079351</dd><dt>9</dt><dd>-0.405440597446565</dd><dt>10</dt><dd>-0.0127442715543423</dd></dl>\n"
            ]
          },
          "metadata": {
            "tags": []
          }
        }
      ]
    },
    {
      "cell_type": "code",
      "metadata": {
        "colab": {
          "base_uri": "https://localhost:8080/",
          "height": 271
        },
        "id": "4zdwy46FhNOr",
        "outputId": "5058de1c-26dc-406d-9958-4d6ad07429c4"
      },
      "source": [
        "# Combine together the age category, smoking status, observed and expected number of deaths and Pearson and deviance residuals\n",
        "\n",
        "round(cbind(doctors$agecat, as.factor(doctors$smoking), doctors$deaths, fitted(m1), pearsonres, resid(m1)), 3)"
      ],
      "execution_count": 35,
      "outputs": [
        {
          "output_type": "display_data",
          "data": {
            "text/plain": [
              "                   pearsonres       \n",
              "1  1 2  32  29.585  0.444      0.438\n",
              "2  2 2 104 106.812 -0.272     -0.273\n",
              "3  3 2 206 208.199 -0.152     -0.153\n",
              "4  4 2 186 182.828  0.235      0.234\n",
              "5  5 2 102 102.577 -0.057     -0.057\n",
              "6  1 1   2   3.415 -0.766     -0.830\n",
              "7  2 1  12  11.542  0.135      0.134\n",
              "8  3 1  28  24.743  0.655      0.641\n",
              "9  4 1  28  30.229 -0.405     -0.411\n",
              "10 5 1  31  31.071 -0.013     -0.013"
            ],
            "text/latex": "A matrix: 10 × 6 of type dbl\n\\begin{tabular}{r|llllll}\n  &  &  &  &  & pearsonres & \\\\\n\\hline\n\t1 & 1 & 2 &  32 &  29.585 &  0.444 &  0.438\\\\\n\t2 & 2 & 2 & 104 & 106.812 & -0.272 & -0.273\\\\\n\t3 & 3 & 2 & 206 & 208.199 & -0.152 & -0.153\\\\\n\t4 & 4 & 2 & 186 & 182.828 &  0.235 &  0.234\\\\\n\t5 & 5 & 2 & 102 & 102.577 & -0.057 & -0.057\\\\\n\t6 & 1 & 1 &   2 &   3.415 & -0.766 & -0.830\\\\\n\t7 & 2 & 1 &  12 &  11.542 &  0.135 &  0.134\\\\\n\t8 & 3 & 1 &  28 &  24.743 &  0.655 &  0.641\\\\\n\t9 & 4 & 1 &  28 &  30.229 & -0.405 & -0.411\\\\\n\t10 & 5 & 1 &  31 &  31.071 & -0.013 & -0.013\\\\\n\\end{tabular}\n",
            "text/markdown": "\nA matrix: 10 × 6 of type dbl\n\n| <!--/--> | <!----> | <!----> | <!----> | <!----> | pearsonres | <!----> |\n|---|---|---|---|---|---|---|\n| 1 | 1 | 2 |  32 |  29.585 |  0.444 |  0.438 |\n| 2 | 2 | 2 | 104 | 106.812 | -0.272 | -0.273 |\n| 3 | 3 | 2 | 206 | 208.199 | -0.152 | -0.153 |\n| 4 | 4 | 2 | 186 | 182.828 |  0.235 |  0.234 |\n| 5 | 5 | 2 | 102 | 102.577 | -0.057 | -0.057 |\n| 6 | 1 | 1 |   2 |   3.415 | -0.766 | -0.830 |\n| 7 | 2 | 1 |  12 |  11.542 |  0.135 |  0.134 |\n| 8 | 3 | 1 |  28 |  24.743 |  0.655 |  0.641 |\n| 9 | 4 | 1 |  28 |  30.229 | -0.405 | -0.411 |\n| 10 | 5 | 1 |  31 |  31.071 | -0.013 | -0.013 |\n\n",
            "text/html": [
              "<table>\n",
              "<caption>A matrix: 10 × 6 of type dbl</caption>\n",
              "<thead>\n",
              "\t<tr><th></th><th scope=col></th><th scope=col></th><th scope=col></th><th scope=col></th><th scope=col>pearsonres</th><th scope=col></th></tr>\n",
              "</thead>\n",
              "<tbody>\n",
              "\t<tr><th scope=row>1</th><td>1</td><td>2</td><td> 32</td><td> 29.585</td><td> 0.444</td><td> 0.438</td></tr>\n",
              "\t<tr><th scope=row>2</th><td>2</td><td>2</td><td>104</td><td>106.812</td><td>-0.272</td><td>-0.273</td></tr>\n",
              "\t<tr><th scope=row>3</th><td>3</td><td>2</td><td>206</td><td>208.199</td><td>-0.152</td><td>-0.153</td></tr>\n",
              "\t<tr><th scope=row>4</th><td>4</td><td>2</td><td>186</td><td>182.828</td><td> 0.235</td><td> 0.234</td></tr>\n",
              "\t<tr><th scope=row>5</th><td>5</td><td>2</td><td>102</td><td>102.577</td><td>-0.057</td><td>-0.057</td></tr>\n",
              "\t<tr><th scope=row>6</th><td>1</td><td>1</td><td>  2</td><td>  3.415</td><td>-0.766</td><td>-0.830</td></tr>\n",
              "\t<tr><th scope=row>7</th><td>2</td><td>1</td><td> 12</td><td> 11.542</td><td> 0.135</td><td> 0.134</td></tr>\n",
              "\t<tr><th scope=row>8</th><td>3</td><td>1</td><td> 28</td><td> 24.743</td><td> 0.655</td><td> 0.641</td></tr>\n",
              "\t<tr><th scope=row>9</th><td>4</td><td>1</td><td> 28</td><td> 30.229</td><td>-0.405</td><td>-0.411</td></tr>\n",
              "\t<tr><th scope=row>10</th><td>5</td><td>1</td><td> 31</td><td> 31.071</td><td>-0.013</td><td>-0.013</td></tr>\n",
              "</tbody>\n",
              "</table>\n"
            ]
          },
          "metadata": {
            "tags": []
          }
        }
      ]
    },
    {
      "cell_type": "code",
      "metadata": {
        "colab": {
          "base_uri": "https://localhost:8080/",
          "height": 34
        },
        "id": "pId9nXR0hPLN",
        "outputId": "6761a168-6714-4f28-9059-8016ae1ec9cc"
      },
      "source": [
        "# xtable(cbind(doctors$agecat, doctors$smoking, doctors$deaths, fitted(m1), pearsonres, resid(m1)), digits=c(0,0,0,0,2,3,3))\n",
        "\n",
        "# Pearson chi-squared statistic:\n",
        "\n",
        "X2 <- sum(pres^2)\n",
        "X2"
      ],
      "execution_count": 25,
      "outputs": [
        {
          "output_type": "display_data",
          "data": {
            "text/plain": [
              "[1] 1.550251"
            ],
            "text/latex": "1.55025116133303",
            "text/markdown": "1.55025116133303",
            "text/html": [
              "1.55025116133303"
            ]
          },
          "metadata": {
            "tags": []
          }
        }
      ]
    },
    {
      "cell_type": "code",
      "metadata": {
        "id": "EUMAIYWah7Kp"
      },
      "source": [
        ""
      ],
      "execution_count": null,
      "outputs": []
    }
  ]
}