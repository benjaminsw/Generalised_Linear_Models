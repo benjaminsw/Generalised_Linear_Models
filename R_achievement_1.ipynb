{
  "nbformat": 4,
  "nbformat_minor": 0,
  "metadata": {
    "colab": {
      "name": "R - achievement-1",
      "provenance": [],
      "collapsed_sections": [],
      "authorship_tag": "ABX9TyPykMYVmT4aR7Vx6W3u+Ncp",
      "include_colab_link": true
    },
    "kernelspec": {
      "name": "ir",
      "display_name": "R"
    }
  },
  "cells": [
    {
      "cell_type": "markdown",
      "metadata": {
        "id": "view-in-github",
        "colab_type": "text"
      },
      "source": [
        "<a href=\"https://colab.research.google.com/github/benjaminsw/Generalised_Linear_Models/blob/main/R_achievement_1.ipynb\" target=\"_parent\"><img src=\"https://colab.research.google.com/assets/colab-badge.svg\" alt=\"Open In Colab\"/></a>"
      ]
    },
    {
      "cell_type": "code",
      "metadata": {
        "colab": {
          "base_uri": "https://localhost:8080/"
        },
        "id": "n--8YOb8Pal9",
        "outputId": "91cdae9c-4d9c-4480-8745-f2d064095d0f"
      },
      "source": [
        "if (!require('gsheet')) install.packages('gsheet'); library('gsheet')"
      ],
      "execution_count": 1,
      "outputs": [
        {
          "output_type": "stream",
          "text": [
            "Loading required package: gsheet\n",
            "\n",
            "Warning message in library(package, lib.loc = lib.loc, character.only = TRUE, logical.return = TRUE, :\n",
            "“there is no package called ‘gsheet’”\n",
            "Installing package into ‘/usr/local/lib/R/site-library’\n",
            "(as ‘lib’ is unspecified)\n",
            "\n"
          ],
          "name": "stderr"
        }
      ]
    },
    {
      "cell_type": "code",
      "metadata": {
        "id": "DGwuOpNygxOc",
        "colab": {
          "base_uri": "https://localhost:8080/",
          "height": 207
        },
        "outputId": "6c807176-03a7-45d3-b532-92be579e6acb"
      },
      "source": [
        "# Read in achievement score data\n",
        "url <- 'https://docs.google.com/spreadsheets/d/1lpnKuvEkwVcLXUnT-NwfaeCDKtHLt3jvg4PMFJvQv10/edit?usp=sharing'\n",
        "dat <- gsheet2tbl(url)\n",
        "#dat <- read.csv(\"achievement.csv\")\n",
        "head(dat)"
      ],
      "execution_count": 2,
      "outputs": [
        {
          "output_type": "display_data",
          "data": {
            "text/plain": [
              "  method y x\n",
              "1 A      6 3\n",
              "2 A      4 1\n",
              "3 A      5 3\n",
              "4 A      3 1\n",
              "5 A      4 2\n",
              "6 A      3 1"
            ],
            "text/latex": "A tibble: 6 × 3\n\\begin{tabular}{lll}\n method & y & x\\\\\n <chr> & <dbl> & <dbl>\\\\\n\\hline\n\t A & 6 & 3\\\\\n\t A & 4 & 1\\\\\n\t A & 5 & 3\\\\\n\t A & 3 & 1\\\\\n\t A & 4 & 2\\\\\n\t A & 3 & 1\\\\\n\\end{tabular}\n",
            "text/markdown": "\nA tibble: 6 × 3\n\n| method &lt;chr&gt; | y &lt;dbl&gt; | x &lt;dbl&gt; |\n|---|---|---|\n| A | 6 | 3 |\n| A | 4 | 1 |\n| A | 5 | 3 |\n| A | 3 | 1 |\n| A | 4 | 2 |\n| A | 3 | 1 |\n\n",
            "text/html": [
              "<table>\n",
              "<caption>A tibble: 6 × 3</caption>\n",
              "<thead>\n",
              "\t<tr><th scope=col>method</th><th scope=col>y</th><th scope=col>x</th></tr>\n",
              "\t<tr><th scope=col>&lt;chr&gt;</th><th scope=col>&lt;dbl&gt;</th><th scope=col>&lt;dbl&gt;</th></tr>\n",
              "</thead>\n",
              "<tbody>\n",
              "\t<tr><td>A</td><td>6</td><td>3</td></tr>\n",
              "\t<tr><td>A</td><td>4</td><td>1</td></tr>\n",
              "\t<tr><td>A</td><td>5</td><td>3</td></tr>\n",
              "\t<tr><td>A</td><td>3</td><td>1</td></tr>\n",
              "\t<tr><td>A</td><td>4</td><td>2</td></tr>\n",
              "\t<tr><td>A</td><td>3</td><td>1</td></tr>\n",
              "</tbody>\n",
              "</table>\n"
            ]
          },
          "metadata": {
            "tags": []
          }
        }
      ]
    },
    {
      "cell_type": "code",
      "metadata": {
        "colab": {
          "base_uri": "https://localhost:8080/",
          "height": 437
        },
        "id": "JhVWnKidP4Vi",
        "outputId": "3e29aa0d-a270-4cb0-c34f-3f7074f9865b"
      },
      "source": [
        "# Scatterplot\n",
        "plot(dat$x[dat$method==\"A\"], dat$y[dat$method==\"A\"], xlab=\"Initial aptitude score\", \n",
        "    ylab=\"Achievement score\", pch=\"A\", xlim=c(min(dat$x)-1, max(dat$x)+1),\n",
        "    ylim=c(min(dat$y)-1, max(dat$y)+1))\n",
        "points(dat$x[dat$method==\"B\"], dat$y[dat$method==\"B\"], pch=\"B\")\n",
        "points(dat$x[dat$method==\"C\"]+0.1, dat$y[dat$method==\"C\"]+0.1, pch=\"C\")"
      ],
      "execution_count": 3,
      "outputs": [
        {
          "output_type": "display_data",
          "data": {
            "image/png": "[encoded data removed]",
            "text/plain": [
              "plot without title"
            ]
          },
          "metadata": {
            "tags": [],
            "image/png": {
              "width": 420,
              "height": 420
            }
          }
        }
      ]
    },
    {
      "cell_type": "code",
      "metadata": {
        "colab": {
          "base_uri": "https://localhost:8080/",
          "height": 491
        },
        "id": "JzuXQfQDP6_o",
        "outputId": "8dee5c86-6a7a-41e4-f2aa-c21b6634875d"
      },
      "source": [
        "# Fit the models\n",
        "m1 <- lm(y~ method+x, data=dat)\n",
        "summary(m1)\n",
        "anova(m1)"
      ],
      "execution_count": 4,
      "outputs": [
        {
          "output_type": "display_data",
          "data": {
            "text/plain": [
              "\n",
              "Call:\n",
              "lm(formula = y ~ method + x, data = dat)\n",
              "\n",
              "Residuals:\n",
              "     Min       1Q   Median       3Q      Max \n",
              "-1.73878 -0.57959  0.07347  0.48980  1.00408 \n",
              "\n",
              "Coefficients:\n",
              "            Estimate Std. Error t value Pr(>|t|)    \n",
              "(Intercept)   2.8367     0.4235   6.699 3.74e-06 ***\n",
              "methodB       2.1878     0.4545   4.814 0.000162 ***\n",
              "methodC       1.8612     0.4240   4.390 0.000400 ***\n",
              "x             0.7429     0.1421   5.227 6.84e-05 ***\n",
              "---\n",
              "Signif. codes:  0 ‘***’ 0.001 ‘**’ 0.01 ‘*’ 0.05 ‘.’ 0.1 ‘ ’ 1\n",
              "\n",
              "Residual standard error: 0.7785 on 17 degrees of freedom\n",
              "Multiple R-squared:  0.8386,\tAdjusted R-squared:  0.8101 \n",
              "F-statistic: 29.43 on 3 and 17 DF,  p-value: 5.889e-07\n"
            ]
          },
          "metadata": {
            "tags": []
          }
        },
        {
          "output_type": "display_data",
          "data": {
            "text/plain": [
              "          Df Sum Sq   Mean Sq    F value  Pr(>F)      \n",
              "method     2 36.95238 18.4761905 30.48864 2.382796e-06\n",
              "x          1 16.55510 16.5551020 27.31854 6.837988e-05\n",
              "Residuals 17 10.30204  0.6060024       NA           NA"
            ],
            "text/latex": "A anova: 3 × 5\n\\begin{tabular}{r|lllll}\n  & Df & Sum Sq & Mean Sq & F value & Pr(>F)\\\\\n  & <int> & <dbl> & <dbl> & <dbl> & <dbl>\\\\\n\\hline\n\tmethod &  2 & 36.95238 & 18.4761905 & 30.48864 & 2.382796e-06\\\\\n\tx &  1 & 16.55510 & 16.5551020 & 27.31854 & 6.837988e-05\\\\\n\tResiduals & 17 & 10.30204 &  0.6060024 &       NA &           NA\\\\\n\\end{tabular}\n",
            "text/markdown": "\nA anova: 3 × 5\n\n| <!--/--> | Df &lt;int&gt; | Sum Sq &lt;dbl&gt; | Mean Sq &lt;dbl&gt; | F value &lt;dbl&gt; | Pr(&gt;F) &lt;dbl&gt; |\n|---|---|---|---|---|---|\n| method |  2 | 36.95238 | 18.4761905 | 30.48864 | 2.382796e-06 |\n| x |  1 | 16.55510 | 16.5551020 | 27.31854 | 6.837988e-05 |\n| Residuals | 17 | 10.30204 |  0.6060024 |       NA |           NA |\n\n",
            "text/html": [
              "<table>\n",
              "<caption>A anova: 3 × 5</caption>\n",
              "<thead>\n",
              "\t<tr><th></th><th scope=col>Df</th><th scope=col>Sum Sq</th><th scope=col>Mean Sq</th><th scope=col>F value</th><th scope=col>Pr(&gt;F)</th></tr>\n",
              "\t<tr><th></th><th scope=col>&lt;int&gt;</th><th scope=col>&lt;dbl&gt;</th><th scope=col>&lt;dbl&gt;</th><th scope=col>&lt;dbl&gt;</th><th scope=col>&lt;dbl&gt;</th></tr>\n",
              "</thead>\n",
              "<tbody>\n",
              "\t<tr><th scope=row>method</th><td> 2</td><td>36.95238</td><td>18.4761905</td><td>30.48864</td><td>2.382796e-06</td></tr>\n",
              "\t<tr><th scope=row>x</th><td> 1</td><td>16.55510</td><td>16.5551020</td><td>27.31854</td><td>6.837988e-05</td></tr>\n",
              "\t<tr><th scope=row>Residuals</th><td>17</td><td>10.30204</td><td> 0.6060024</td><td>      NA</td><td>          NA</td></tr>\n",
              "</tbody>\n",
              "</table>\n"
            ]
          },
          "metadata": {
            "tags": []
          }
        }
      ]
    },
    {
      "cell_type": "code",
      "metadata": {
        "colab": {
          "base_uri": "https://localhost:8080/",
          "height": 330
        },
        "id": "R8HO88A-P9Lh",
        "outputId": "6ae61871-bf2d-4ced-cae9-c9b1938d90ac"
      },
      "source": [
        "m2 <- lm(y~ x, data=dat)\n",
        "summary(m2)"
      ],
      "execution_count": 5,
      "outputs": [
        {
          "output_type": "display_data",
          "data": {
            "text/plain": [
              "\n",
              "Call:\n",
              "lm(formula = y ~ x, data = dat)\n",
              "\n",
              "Residuals:\n",
              "    Min      1Q  Median      3Q     Max \n",
              "-1.5000 -1.4574  0.5000  0.5425  1.5319 \n",
              "\n",
              "Coefficients:\n",
              "            Estimate Std. Error t value Pr(>|t|)    \n",
              "(Intercept)   3.4468     0.6112   5.639 1.95e-05 ***\n",
              "x             1.0106     0.2001   5.051 7.09e-05 ***\n",
              "---\n",
              "Signif. codes:  0 ‘***’ 0.001 ‘**’ 0.01 ‘*’ 0.05 ‘.’ 0.1 ‘ ’ 1\n",
              "\n",
              "Residual standard error: 1.197 on 19 degrees of freedom\n",
              "Multiple R-squared:  0.5732,\tAdjusted R-squared:  0.5507 \n",
              "F-statistic: 25.52 on 1 and 19 DF,  p-value: 7.088e-05\n"
            ]
          },
          "metadata": {
            "tags": []
          }
        }
      ]
    },
    {
      "cell_type": "code",
      "metadata": {
        "colab": {
          "base_uri": "https://localhost:8080/",
          "height": 122
        },
        "id": "kmKA44RhP-mx",
        "outputId": "f8535dd5-8ac5-414e-beec-6fd5e8be4f31"
      },
      "source": [
        "anova(m2)"
      ],
      "execution_count": 6,
      "outputs": [
        {
          "output_type": "display_data",
          "data": {
            "text/plain": [
              "          Df Sum Sq   Mean Sq   F value  Pr(>F)      \n",
              "x          1 36.57548 36.575481 25.51711 7.088061e-05\n",
              "Residuals 19 27.23404  1.433371       NA           NA"
            ],
            "text/latex": "A anova: 2 × 5\n\\begin{tabular}{r|lllll}\n  & Df & Sum Sq & Mean Sq & F value & Pr(>F)\\\\\n  & <int> & <dbl> & <dbl> & <dbl> & <dbl>\\\\\n\\hline\n\tx &  1 & 36.57548 & 36.575481 & 25.51711 & 7.088061e-05\\\\\n\tResiduals & 19 & 27.23404 &  1.433371 &       NA &           NA\\\\\n\\end{tabular}\n",
            "text/markdown": "\nA anova: 2 × 5\n\n| <!--/--> | Df &lt;int&gt; | Sum Sq &lt;dbl&gt; | Mean Sq &lt;dbl&gt; | F value &lt;dbl&gt; | Pr(&gt;F) &lt;dbl&gt; |\n|---|---|---|---|---|---|\n| x |  1 | 36.57548 | 36.575481 | 25.51711 | 7.088061e-05 |\n| Residuals | 19 | 27.23404 |  1.433371 |       NA |           NA |\n\n",
            "text/html": [
              "<table>\n",
              "<caption>A anova: 2 × 5</caption>\n",
              "<thead>\n",
              "\t<tr><th></th><th scope=col>Df</th><th scope=col>Sum Sq</th><th scope=col>Mean Sq</th><th scope=col>F value</th><th scope=col>Pr(&gt;F)</th></tr>\n",
              "\t<tr><th></th><th scope=col>&lt;int&gt;</th><th scope=col>&lt;dbl&gt;</th><th scope=col>&lt;dbl&gt;</th><th scope=col>&lt;dbl&gt;</th><th scope=col>&lt;dbl&gt;</th></tr>\n",
              "</thead>\n",
              "<tbody>\n",
              "\t<tr><th scope=row>x</th><td> 1</td><td>36.57548</td><td>36.575481</td><td>25.51711</td><td>7.088061e-05</td></tr>\n",
              "\t<tr><th scope=row>Residuals</th><td>19</td><td>27.23404</td><td> 1.433371</td><td>      NA</td><td>          NA</td></tr>\n",
              "</tbody>\n",
              "</table>\n"
            ]
          },
          "metadata": {
            "tags": []
          }
        }
      ]
    },
    {
      "cell_type": "code",
      "metadata": {
        "colab": {
          "base_uri": "https://localhost:8080/",
          "height": 122
        },
        "id": "Po5vsllaPOwq",
        "outputId": "280402f5-bbee-4e4e-e6c3-a53016dfcb65"
      },
      "source": [
        "# Compare models using an F-test:\n",
        "anova(m2,m1)"
      ],
      "execution_count": 7,
      "outputs": [
        {
          "output_type": "display_data",
          "data": {
            "text/plain": [
              "  Res.Df RSS      Df Sum of Sq F        Pr(>F)      \n",
              "1 19     27.23404 NA     NA          NA           NA\n",
              "2 17     10.30204  2 16.932    13.97024 0.0002578664"
            ],
            "text/latex": "A anova: 2 × 6\n\\begin{tabular}{r|llllll}\n  & Res.Df & RSS & Df & Sum of Sq & F & Pr(>F)\\\\\n  & <dbl> & <dbl> & <dbl> & <dbl> & <dbl> & <dbl>\\\\\n\\hline\n\t1 & 19 & 27.23404 & NA &     NA &       NA &           NA\\\\\n\t2 & 17 & 10.30204 &  2 & 16.932 & 13.97024 & 0.0002578664\\\\\n\\end{tabular}\n",
            "text/markdown": "\nA anova: 2 × 6\n\n| <!--/--> | Res.Df &lt;dbl&gt; | RSS &lt;dbl&gt; | Df &lt;dbl&gt; | Sum of Sq &lt;dbl&gt; | F &lt;dbl&gt; | Pr(&gt;F) &lt;dbl&gt; |\n|---|---|---|---|---|---|---|\n| 1 | 19 | 27.23404 | NA |     NA |       NA |           NA |\n| 2 | 17 | 10.30204 |  2 | 16.932 | 13.97024 | 0.0002578664 |\n\n",
            "text/html": [
              "<table>\n",
              "<caption>A anova: 2 × 6</caption>\n",
              "<thead>\n",
              "\t<tr><th></th><th scope=col>Res.Df</th><th scope=col>RSS</th><th scope=col>Df</th><th scope=col>Sum of Sq</th><th scope=col>F</th><th scope=col>Pr(&gt;F)</th></tr>\n",
              "\t<tr><th></th><th scope=col>&lt;dbl&gt;</th><th scope=col>&lt;dbl&gt;</th><th scope=col>&lt;dbl&gt;</th><th scope=col>&lt;dbl&gt;</th><th scope=col>&lt;dbl&gt;</th><th scope=col>&lt;dbl&gt;</th></tr>\n",
              "</thead>\n",
              "<tbody>\n",
              "\t<tr><th scope=row>1</th><td>19</td><td>27.23404</td><td>NA</td><td>    NA</td><td>      NA</td><td>          NA</td></tr>\n",
              "\t<tr><th scope=row>2</th><td>17</td><td>10.30204</td><td> 2</td><td>16.932</td><td>13.97024</td><td>0.0002578664</td></tr>\n",
              "</tbody>\n",
              "</table>\n"
            ]
          },
          "metadata": {
            "tags": []
          }
        }
      ]
    },
    {
      "cell_type": "code",
      "metadata": {
        "id": "gUeJ0H6QQAHU"
      },
      "source": [
        ""
      ],
      "execution_count": null,
      "outputs": []
    }
  ]
}